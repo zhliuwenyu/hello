{
  "cells": [
    {
      "attachments": {},
      "cell_type": "markdown",
      "metadata": {
        "colab_type": "text",
        "id": "view-in-github"
      },
      "source": [
        "<a href=\"https://colab.research.google.com/github/zhliuwenyu/hello/blob/master/lesson2_onlineapp.ipynb\" target=\"_parent\"><img src=\"https://colab.research.google.com/assets/colab-badge.svg\" alt=\"Open In Colab\"/></a>"
      ]
    },
    {
      "cell_type": "code",
      "execution_count": 2,
      "metadata": {
        "colab": {
          "base_uri": "https://localhost:8080/"
        },
        "id": "HUjJ59AUJ4qr",
        "outputId": "d3246bce-2e83-436b-f8ba-016445a292f6"
      },
      "outputs": [],
      "source": [
        "! [ -e /content ] && pip install -Uqq fastbook\n",
        "import fastbook\n",
        "fastbook.setup_book()\n",
        "#hide\n",
        "from fastbook import *\n",
        "from fastai.vision.widgets import *\n",
        "\n"
      ]
    },
    {
      "cell_type": "code",
      "execution_count": null,
      "metadata": {
        "colab": {
          "base_uri": "https://localhost:8080/",
          "height": 35
        },
        "id": "FPb8IsbwJ5K4",
        "outputId": "66046725-5983-4f71-a406-0bb0d92be3b7"
      },
      "outputs": [
        {
          "data": {
            "text/html": [
              "\n",
              "<style>\n",
              "    /* Turns off some styling */\n",
              "    progress {\n",
              "        /* gets rid of default border in Firefox and Opera. */\n",
              "        border: none;\n",
              "        /* Needs to be in here for Safari polyfill so background images work as expected. */\n",
              "        background-size: auto;\n",
              "    }\n",
              "    progress:not([value]), progress:not([value])::-webkit-progress-bar {\n",
              "        background: repeating-linear-gradient(45deg, #7e7e7e, #7e7e7e 10px, #5c5c5c 10px, #5c5c5c 20px);\n",
              "    }\n",
              "    .progress-bar-interrupted, .progress-bar-interrupted::-webkit-progress-bar {\n",
              "        background: #F44336;\n",
              "    }\n",
              "</style>\n"
            ],
            "text/plain": [
              "<IPython.core.display.HTML object>"
            ]
          },
          "metadata": {},
          "output_type": "display_data"
        },
        {
          "data": {
            "text/html": [],
            "text/plain": [
              "<IPython.core.display.HTML object>"
            ]
          },
          "metadata": {},
          "output_type": "display_data"
        },
        {
          "data": {
            "text/plain": [
              "('wangyibo', tensor(0), tensor([0.9428, 0.0462, 0.0110]))"
            ]
          },
          "execution_count": 4,
          "metadata": {},
          "output_type": "execute_result"
        }
      ],
      "source": [
        "learn_inf = load_learner('export.pkl')\n",
        "learn_inf.predict('wyb.jpeg')"
      ]
    },
    {
      "cell_type": "code",
      "execution_count": null,
      "metadata": {
        "colab": {
          "base_uri": "https://localhost:8080/",
          "height": 49,
          "referenced_widgets": [
            "627b09b6e5874f04bb8e931522d2f366",
            "480cec0055fc4e80829e36f9ad69fdd0",
            "74ca0c9e29fe4c5580dd5d94dbbf40b9"
          ]
        },
        "id": "tm7foOT8J_av",
        "outputId": "9e216014-aa8d-4e98-b2ef-ef43701cdf2a"
      },
      "outputs": [
        {
          "data": {
            "application/vnd.jupyter.widget-view+json": {
              "model_id": "627b09b6e5874f04bb8e931522d2f366",
              "version_major": 2,
              "version_minor": 0
            },
            "text/plain": [
              "FileUpload(value={}, description='Upload')"
            ]
          },
          "metadata": {},
          "output_type": "display_data"
        }
      ],
      "source": [
        "btn_upload = widgets.FileUpload()\n",
        "btn_upload"
      ]
    },
    {
      "cell_type": "code",
      "execution_count": null,
      "metadata": {
        "colab": {
          "base_uri": "https://localhost:8080/",
          "height": 17
        },
        "id": "vSxRKnD0K3aZ",
        "outputId": "4fd7e7b1-e4c1-4ffe-b103-725785570ad0"
      },
      "outputs": [
        {
          "data": {
            "text/html": [
              "\n",
              "<style>\n",
              "    /* Turns off some styling */\n",
              "    progress {\n",
              "        /* gets rid of default border in Firefox and Opera. */\n",
              "        border: none;\n",
              "        /* Needs to be in here for Safari polyfill so background images work as expected. */\n",
              "        background-size: auto;\n",
              "    }\n",
              "    progress:not([value]), progress:not([value])::-webkit-progress-bar {\n",
              "        background: repeating-linear-gradient(45deg, #7e7e7e, #7e7e7e 10px, #5c5c5c 10px, #5c5c5c 20px);\n",
              "    }\n",
              "    .progress-bar-interrupted, .progress-bar-interrupted::-webkit-progress-bar {\n",
              "        background: #F44336;\n",
              "    }\n",
              "</style>\n"
            ],
            "text/plain": [
              "<IPython.core.display.HTML object>"
            ]
          },
          "metadata": {},
          "output_type": "display_data"
        },
        {
          "data": {
            "text/html": [],
            "text/plain": [
              "<IPython.core.display.HTML object>"
            ]
          },
          "metadata": {},
          "output_type": "display_data"
        }
      ],
      "source": [
        "img = PILImage.create(btn_upload.data[-1])\n",
        "img"
      ]
    },
    {
      "cell_type": "code",
      "execution_count": null,
      "metadata": {
        "colab": {
          "base_uri": "https://localhost:8080/",
          "height": 145,
          "referenced_widgets": [
            "17504ddaa3cb4869bf9b68b83ae08407",
            "9f3de735f0f64c03a6bb59e6abb4deaf"
          ]
        },
        "id": "LvQe0sbxLlPV",
        "outputId": "46c1791f-3cd3-4403-9972-8d5a05088f5a"
      },
      "outputs": [
        {
          "data": {
            "application/vnd.jupyter.widget-view+json": {
              "model_id": "17504ddaa3cb4869bf9b68b83ae08407",
              "version_major": 2,
              "version_minor": 0
            },
            "text/plain": [
              "Output()"
            ]
          },
          "metadata": {},
          "output_type": "display_data"
        }
      ],
      "source": [
        "#hide_output\n",
        "out_pl = widgets.Output()\n",
        "out_pl.clear_output()\n",
        "with out_pl: display(img.to_thumb(128,128))\n",
        "out_pl"
      ]
    },
    {
      "cell_type": "code",
      "execution_count": null,
      "metadata": {
        "colab": {
          "base_uri": "https://localhost:8080/",
          "height": 49,
          "referenced_widgets": [
            "596076bf7469439b91afd4cc3c6819f1",
            "f8f459b9046e4749940fc58af2cbdc4f",
            "573c6a69a10242419cd2cc74f8b5dbc0"
          ]
        },
        "id": "dKCUmGOSLCpB",
        "outputId": "76a62eea-9802-4eba-d534-98fe45aba0d7"
      },
      "outputs": [
        {
          "data": {
            "text/html": [
              "\n",
              "<style>\n",
              "    /* Turns off some styling */\n",
              "    progress {\n",
              "        /* gets rid of default border in Firefox and Opera. */\n",
              "        border: none;\n",
              "        /* Needs to be in here for Safari polyfill so background images work as expected. */\n",
              "        background-size: auto;\n",
              "    }\n",
              "    progress:not([value]), progress:not([value])::-webkit-progress-bar {\n",
              "        background: repeating-linear-gradient(45deg, #7e7e7e, #7e7e7e 10px, #5c5c5c 10px, #5c5c5c 20px);\n",
              "    }\n",
              "    .progress-bar-interrupted, .progress-bar-interrupted::-webkit-progress-bar {\n",
              "        background: #F44336;\n",
              "    }\n",
              "</style>\n"
            ],
            "text/plain": [
              "<IPython.core.display.HTML object>"
            ]
          },
          "metadata": {},
          "output_type": "display_data"
        },
        {
          "data": {
            "text/html": [],
            "text/plain": [
              "<IPython.core.display.HTML object>"
            ]
          },
          "metadata": {},
          "output_type": "display_data"
        },
        {
          "data": {
            "application/vnd.jupyter.widget-view+json": {
              "model_id": "596076bf7469439b91afd4cc3c6819f1",
              "version_major": 2,
              "version_minor": 0
            },
            "text/plain": [
              "Label(value='Prediction: wulei; Probability: 0.8797')"
            ]
          },
          "metadata": {},
          "output_type": "display_data"
        }
      ],
      "source": [
        "pred,pred_idx,probs = learn_inf.predict(img)\n",
        "lbl_pred = widgets.Label()\n",
        "lbl_pred.value = f'Prediction: {pred}; Probability: {probs[pred_idx]:.04f}'\n",
        "lbl_pred"
      ]
    },
    {
      "cell_type": "code",
      "execution_count": null,
      "metadata": {
        "id": "CZJVdfp2LNbm"
      },
      "outputs": [],
      "source": [
        "btn_run = widgets.Button(description='Classify')\n",
        "btn_run"
      ]
    },
    {
      "cell_type": "code",
      "execution_count": null,
      "metadata": {
        "id": "UiClqad4LQ_2"
      },
      "outputs": [],
      "source": [
        "def on_click_classify(change):\n",
        "    img = PILImage.create(btn_upload.data[-1])\n",
        "    out_pl.clear_output()\n",
        "    with out_pl: display(img.to_thumb(128,128))\n",
        "    pred,pred_idx,probs = learn_inf.predict(img)\n",
        "    lbl_pred.value = f'Prediction: {pred}; Probability: {probs[pred_idx]:.04f}'\n",
        "\n",
        "btn_run.on_click(on_click_classify)"
      ]
    },
    {
      "cell_type": "code",
      "execution_count": null,
      "metadata": {
        "colab": {
          "base_uri": "https://localhost:8080/",
          "height": 273,
          "referenced_widgets": [
            "e1dbe433235448849f016c92dc4901cf",
            "8946fcafd02141b39fb6056bc87b03c6",
            "9c38a5a8056c4ee49ff4eeb039409742",
            "ac5b00ebf0194974a9334e4ba546744f",
            "17504ddaa3cb4869bf9b68b83ae08407",
            "596076bf7469439b91afd4cc3c6819f1",
            "4b4c90cd622e462780d5d1ea22a189a7",
            "28c4b4feda9c4afa88361de20cab6b3d",
            "538228c77ed244a3b196a58c7f46aa1e",
            "39b083caed584bbbaac6b8c99edb9912",
            "e45fe65ae93e4bc19e084f55678ae70c",
            "c5e963e954e14e88896cffe61184563d",
            "dd4eb611724d483fbd175963d39cc41a",
            "f8f459b9046e4749940fc58af2cbdc4f",
            "573c6a69a10242419cd2cc74f8b5dbc0",
            "9f3de735f0f64c03a6bb59e6abb4deaf"
          ]
        },
        "id": "wlQIcpT8LXwU",
        "outputId": "5858e89b-2310-4e24-8953-d6b01c09b0b2"
      },
      "outputs": [
        {
          "data": {
            "application/vnd.jupyter.widget-view+json": {
              "model_id": "e1dbe433235448849f016c92dc4901cf",
              "version_major": 2,
              "version_minor": 0
            },
            "text/plain": [
              "VBox(children=(Label(value='Select your bear!'), FileUpload(value={}, description='Upload'), Button(descriptio…"
            ]
          },
          "metadata": {},
          "output_type": "display_data"
        },
        {
          "data": {
            "text/html": [
              "\n",
              "<style>\n",
              "    /* Turns off some styling */\n",
              "    progress {\n",
              "        /* gets rid of default border in Firefox and Opera. */\n",
              "        border: none;\n",
              "        /* Needs to be in here for Safari polyfill so background images work as expected. */\n",
              "        background-size: auto;\n",
              "    }\n",
              "    progress:not([value]), progress:not([value])::-webkit-progress-bar {\n",
              "        background: repeating-linear-gradient(45deg, #7e7e7e, #7e7e7e 10px, #5c5c5c 10px, #5c5c5c 20px);\n",
              "    }\n",
              "    .progress-bar-interrupted, .progress-bar-interrupted::-webkit-progress-bar {\n",
              "        background: #F44336;\n",
              "    }\n",
              "</style>\n"
            ],
            "text/plain": [
              "<IPython.core.display.HTML object>"
            ]
          },
          "metadata": {},
          "output_type": "display_data"
        },
        {
          "data": {
            "text/html": [],
            "text/plain": [
              "<IPython.core.display.HTML object>"
            ]
          },
          "metadata": {},
          "output_type": "display_data"
        },
        {
          "data": {
            "text/html": [
              "\n",
              "<style>\n",
              "    /* Turns off some styling */\n",
              "    progress {\n",
              "        /* gets rid of default border in Firefox and Opera. */\n",
              "        border: none;\n",
              "        /* Needs to be in here for Safari polyfill so background images work as expected. */\n",
              "        background-size: auto;\n",
              "    }\n",
              "    progress:not([value]), progress:not([value])::-webkit-progress-bar {\n",
              "        background: repeating-linear-gradient(45deg, #7e7e7e, #7e7e7e 10px, #5c5c5c 10px, #5c5c5c 20px);\n",
              "    }\n",
              "    .progress-bar-interrupted, .progress-bar-interrupted::-webkit-progress-bar {\n",
              "        background: #F44336;\n",
              "    }\n",
              "</style>\n"
            ],
            "text/plain": [
              "<IPython.core.display.HTML object>"
            ]
          },
          "metadata": {},
          "output_type": "display_data"
        },
        {
          "data": {
            "text/html": [],
            "text/plain": [
              "<IPython.core.display.HTML object>"
            ]
          },
          "metadata": {},
          "output_type": "display_data"
        }
      ],
      "source": [
        "btn_upload = widgets.FileUpload()\n",
        "#hide_output\n",
        "VBox([widgets.Label('Select your bear!'), \n",
        "      btn_upload, btn_run, out_pl, lbl_pred])"
      ]
    },
    {
      "cell_type": "code",
      "execution_count": null,
      "metadata": {
        "colab": {
          "base_uri": "https://localhost:8080/"
        },
        "id": "kWf0OUQ4MRW6",
        "outputId": "1293930e-b530-4296-8ed6-50c15a10b538"
      },
      "outputs": [
        {
          "name": "stdout",
          "output_type": "stream",
          "text": [
            "Looking in indexes: https://pypi.org/simple, https://us-python.pkg.dev/colab-wheels/public/simple/\n",
            "Requirement already satisfied: voila in /usr/local/lib/python3.10/dist-packages (0.4.0)\n",
            "Requirement already satisfied: jupyter-client<=7.4.1,>=6.1.3 in /usr/local/lib/python3.10/dist-packages (from voila) (6.1.12)\n",
            "Requirement already satisfied: jupyter-core>=4.11.0 in /usr/local/lib/python3.10/dist-packages (from voila) (5.3.0)\n",
            "Requirement already satisfied: jupyter-server<2.0.0,>=1.18 in /usr/local/lib/python3.10/dist-packages (from voila) (1.24.0)\n",
            "Requirement already satisfied: jupyterlab-server<3,>=2.3.0 in /usr/local/lib/python3.10/dist-packages (from voila) (2.22.1)\n",
            "Requirement already satisfied: nbclient<0.8,>=0.4.0 in /usr/local/lib/python3.10/dist-packages (from voila) (0.7.4)\n",
            "Requirement already satisfied: nbconvert<8,>=6.4.5 in /usr/local/lib/python3.10/dist-packages (from voila) (6.5.4)\n",
            "Requirement already satisfied: traitlets<6,>=5.0.3 in /usr/local/lib/python3.10/dist-packages (from voila) (5.7.1)\n",
            "Requirement already satisfied: websockets>=9.0 in /usr/local/lib/python3.10/dist-packages (from voila) (11.0.3)\n",
            "Requirement already satisfied: pyzmq>=13 in /usr/local/lib/python3.10/dist-packages (from jupyter-client<=7.4.1,>=6.1.3->voila) (23.2.1)\n",
            "Requirement already satisfied: python-dateutil>=2.1 in /usr/local/lib/python3.10/dist-packages (from jupyter-client<=7.4.1,>=6.1.3->voila) (2.8.2)\n",
            "Requirement already satisfied: tornado>=4.1 in /usr/local/lib/python3.10/dist-packages (from jupyter-client<=7.4.1,>=6.1.3->voila) (6.3.1)\n",
            "Requirement already satisfied: platformdirs>=2.5 in /usr/local/lib/python3.10/dist-packages (from jupyter-core>=4.11.0->voila) (3.3.0)\n",
            "Requirement already satisfied: anyio<4,>=3.1.0 in /usr/local/lib/python3.10/dist-packages (from jupyter-server<2.0.0,>=1.18->voila) (3.6.2)\n",
            "Requirement already satisfied: argon2-cffi in /usr/local/lib/python3.10/dist-packages (from jupyter-server<2.0.0,>=1.18->voila) (21.3.0)\n",
            "Requirement already satisfied: jinja2 in /usr/local/lib/python3.10/dist-packages (from jupyter-server<2.0.0,>=1.18->voila) (3.1.2)\n",
            "Requirement already satisfied: nbformat>=5.2.0 in /usr/local/lib/python3.10/dist-packages (from jupyter-server<2.0.0,>=1.18->voila) (5.8.0)\n",
            "Requirement already satisfied: packaging in /usr/local/lib/python3.10/dist-packages (from jupyter-server<2.0.0,>=1.18->voila) (23.1)\n",
            "Requirement already satisfied: prometheus-client in /usr/local/lib/python3.10/dist-packages (from jupyter-server<2.0.0,>=1.18->voila) (0.16.0)\n",
            "Requirement already satisfied: Send2Trash in /usr/local/lib/python3.10/dist-packages (from jupyter-server<2.0.0,>=1.18->voila) (1.8.0)\n",
            "Requirement already satisfied: terminado>=0.8.3 in /usr/local/lib/python3.10/dist-packages (from jupyter-server<2.0.0,>=1.18->voila) (0.17.1)\n",
            "Requirement already satisfied: websocket-client in /usr/local/lib/python3.10/dist-packages (from jupyter-server<2.0.0,>=1.18->voila) (1.5.1)\n",
            "Requirement already satisfied: babel>=2.10 in /usr/local/lib/python3.10/dist-packages (from jupyterlab-server<3,>=2.3.0->voila) (2.12.1)\n",
            "Requirement already satisfied: json5>=0.9.0 in /usr/local/lib/python3.10/dist-packages (from jupyterlab-server<3,>=2.3.0->voila) (0.9.14)\n",
            "Requirement already satisfied: jsonschema>=4.17.3 in /usr/local/lib/python3.10/dist-packages (from jupyterlab-server<3,>=2.3.0->voila) (4.17.3)\n",
            "Requirement already satisfied: requests>=2.28 in /usr/local/lib/python3.10/dist-packages (from jupyterlab-server<3,>=2.3.0->voila) (2.30.0)\n",
            "Requirement already satisfied: lxml in /usr/local/lib/python3.10/dist-packages (from nbconvert<8,>=6.4.5->voila) (4.9.2)\n",
            "Requirement already satisfied: beautifulsoup4 in /usr/local/lib/python3.10/dist-packages (from nbconvert<8,>=6.4.5->voila) (4.11.2)\n",
            "Requirement already satisfied: bleach in /usr/local/lib/python3.10/dist-packages (from nbconvert<8,>=6.4.5->voila) (6.0.0)\n",
            "Requirement already satisfied: defusedxml in /usr/local/lib/python3.10/dist-packages (from nbconvert<8,>=6.4.5->voila) (0.7.1)\n",
            "Requirement already satisfied: entrypoints>=0.2.2 in /usr/local/lib/python3.10/dist-packages (from nbconvert<8,>=6.4.5->voila) (0.4)\n",
            "Requirement already satisfied: jupyterlab-pygments in /usr/local/lib/python3.10/dist-packages (from nbconvert<8,>=6.4.5->voila) (0.2.2)\n",
            "Requirement already satisfied: MarkupSafe>=2.0 in /usr/local/lib/python3.10/dist-packages (from nbconvert<8,>=6.4.5->voila) (2.1.2)\n",
            "Requirement already satisfied: mistune<2,>=0.8.1 in /usr/local/lib/python3.10/dist-packages (from nbconvert<8,>=6.4.5->voila) (0.8.4)\n",
            "Requirement already satisfied: pandocfilters>=1.4.1 in /usr/local/lib/python3.10/dist-packages (from nbconvert<8,>=6.4.5->voila) (1.5.0)\n",
            "Requirement already satisfied: pygments>=2.4.1 in /usr/local/lib/python3.10/dist-packages (from nbconvert<8,>=6.4.5->voila) (2.14.0)\n",
            "Requirement already satisfied: tinycss2 in /usr/local/lib/python3.10/dist-packages (from nbconvert<8,>=6.4.5->voila) (1.2.1)\n",
            "Requirement already satisfied: idna>=2.8 in /usr/local/lib/python3.10/dist-packages (from anyio<4,>=3.1.0->jupyter-server<2.0.0,>=1.18->voila) (3.4)\n",
            "Requirement already satisfied: sniffio>=1.1 in /usr/local/lib/python3.10/dist-packages (from anyio<4,>=3.1.0->jupyter-server<2.0.0,>=1.18->voila) (1.3.0)\n",
            "Requirement already satisfied: attrs>=17.4.0 in /usr/local/lib/python3.10/dist-packages (from jsonschema>=4.17.3->jupyterlab-server<3,>=2.3.0->voila) (23.1.0)\n",
            "Requirement already satisfied: pyrsistent!=0.17.0,!=0.17.1,!=0.17.2,>=0.14.0 in /usr/local/lib/python3.10/dist-packages (from jsonschema>=4.17.3->jupyterlab-server<3,>=2.3.0->voila) (0.19.3)\n",
            "Requirement already satisfied: fastjsonschema in /usr/local/lib/python3.10/dist-packages (from nbformat>=5.2.0->jupyter-server<2.0.0,>=1.18->voila) (2.16.3)\n",
            "Requirement already satisfied: six>=1.5 in /usr/local/lib/python3.10/dist-packages (from python-dateutil>=2.1->jupyter-client<=7.4.1,>=6.1.3->voila) (1.16.0)\n",
            "Requirement already satisfied: charset-normalizer<4,>=2 in /usr/local/lib/python3.10/dist-packages (from requests>=2.28->jupyterlab-server<3,>=2.3.0->voila) (2.0.12)\n",
            "Requirement already satisfied: urllib3<3,>=1.21.1 in /usr/local/lib/python3.10/dist-packages (from requests>=2.28->jupyterlab-server<3,>=2.3.0->voila) (1.26.15)\n",
            "Requirement already satisfied: certifi>=2017.4.17 in /usr/local/lib/python3.10/dist-packages (from requests>=2.28->jupyterlab-server<3,>=2.3.0->voila) (2022.12.7)\n",
            "Requirement already satisfied: ptyprocess in /usr/local/lib/python3.10/dist-packages (from terminado>=0.8.3->jupyter-server<2.0.0,>=1.18->voila) (0.7.0)\n",
            "Requirement already satisfied: argon2-cffi-bindings in /usr/local/lib/python3.10/dist-packages (from argon2-cffi->jupyter-server<2.0.0,>=1.18->voila) (21.2.0)\n",
            "Requirement already satisfied: soupsieve>1.2 in /usr/local/lib/python3.10/dist-packages (from beautifulsoup4->nbconvert<8,>=6.4.5->voila) (2.4.1)\n",
            "Requirement already satisfied: webencodings in /usr/local/lib/python3.10/dist-packages (from bleach->nbconvert<8,>=6.4.5->voila) (0.5.1)\n",
            "Requirement already satisfied: cffi>=1.0.1 in /usr/local/lib/python3.10/dist-packages (from argon2-cffi-bindings->argon2-cffi->jupyter-server<2.0.0,>=1.18->voila) (1.15.1)\n",
            "Requirement already satisfied: pycparser in /usr/local/lib/python3.10/dist-packages (from cffi>=1.0.1->argon2-cffi-bindings->argon2-cffi->jupyter-server<2.0.0,>=1.18->voila) (2.21)\n",
            "Enabling: voila\n",
            "- Writing config: /usr/etc/jupyter\n",
            "    - Validating...\n",
            "      voila 0.4.0 \u001b[32mOK\u001b[0m\n"
          ]
        }
      ],
      "source": [
        "#hide\n",
        "!pip install voila\n",
        "!jupyter serverextension enable --sys-prefix voila"
      ]
    }
  ],
  "metadata": {
    "colab": {
      "authorship_tag": "ABX9TyPKa9RJTWhaCMOGy76MhL+W",
      "include_colab_link": true,
      "provenance": []
    },
    "kernelspec": {
      "display_name": "Python 3",
      "name": "python3"
    },
    "language_info": {
      "codemirror_mode": {
        "name": "ipython",
        "version": 3
      },
      "file_extension": ".py",
      "mimetype": "text/x-python",
      "name": "python",
      "nbconvert_exporter": "python",
      "pygments_lexer": "ipython3",
      "version": "3.11.3"
    },
    "widgets": {
      "application/vnd.jupyter.widget-state+json": {
        "17504ddaa3cb4869bf9b68b83ae08407": {
          "model_module": "@jupyter-widgets/output",
          "model_module_version": "1.0.0",
          "model_name": "OutputModel",
          "state": {
            "_dom_classes": [],
            "_model_module": "@jupyter-widgets/output",
            "_model_module_version": "1.0.0",
            "_model_name": "OutputModel",
            "_view_count": null,
            "_view_module": "@jupyter-widgets/output",
            "_view_module_version": "1.0.0",
            "_view_name": "OutputView",
            "layout": "IPY_MODEL_9f3de735f0f64c03a6bb59e6abb4deaf",
            "msg_id": "",
            "outputs": [
              {
                "data": {
                  "image/png": "iVBORw0KGgoAAAANSUhEUgAAAFgAAACACAIAAAAAmjkhAABNHElEQVR4nLX9+bNn2XEfBmbmWe763d7+at+6utHdQAONjdtIpEVpxpZGY8kMK2x5xuFlPPPHjMPhGIcjhrbGY43M4EiUSIKkSCwEQAAEARBLoxu9VlVXVVfVq3rrd73bWTLnh/teoUmBBBokT7yo+r4X7/t99+bN5ZN5PpkHnXPwEy9m/st/QUSevkYSRBEBYQABEex/DASIGIIXEWEJMTDLcnpU5CmSGgyGjNh1HkkVRRakJVIhsCITIyMYIgXAKIzSfxwgQP860vv+/Adc+qd940+yREBAAABFhBAUaQAIoQshxBibplZKi0iappNh8WTvUTkYofB8sRTAjY1NiZpjEILoAygBIIAIAIAAZ4IVABTAs9c/9cK/OY0AEEAB5tPLZkGByDGeCaJt27woQAARHj+8f+f2O0qZC5cuTdY2bJI2XRt8RGuyItfKpGmKQEgKkZAICHp5/Jmb+StI4m9KIxBRRBBQANj74Fxb1bPpCXCMsZvP5zduPJNb9ejunbqqHj7aWy2mj/ceCWC1XKBSxqSbW9sXL10iY8HH4KMXsNZCjEprJC1IIiwAiBjhVPxK6M/L5ie/4L8WjXiqCE9f9IIghK6pu2pVzee3337r8aMH05NjJJrN57/4i79YlOVnfvu35/P57u5u8J13jkgBqcFoOBqvVXW7vb09Gq0prZM0Cd5vbm6MxqM0TQJLOZqkeep8AIUMIAiIqEQ/VQrEDyaTv2ZBEBEixhj7n8xPptVy3iwX3//2t959563zuztd14k2r7zyyng8jjHeunX70qWLxiZ1tULCtcnaYlUdHk/btluuVkTqmWvXtzY3R6PRpUsX8iKdTafrG5PnX/jIxuZuOihjDEFEJUYQfAzEGs/s5YMK4q/ZNPo/zszOe6V0mmZ5Yr9/7+7G2vgX/rN/6pv6lVdeeXCyFDK37tw7PDy4dOnSsmqrg+PlcnH+/PlF1S5W9dHxdL5YXrh4qSjLtdFaoszRk/1qOV9fHxujdrbWT/YPumUnCiNA67vh2mRzZzvJUkb8qR3mTyQI+TFRiTXECMSguig+OIghBq9jSAmqVTU7Oe6a6nNf/PLrr75a1/XSd0/2Dz2D2Gy4uXt0eOgYOkkwW398PG1bV442PvT8Rydr46ODg9t3303TFBE2eV1ElJLDg/2drW32snP+fDmZrG1tGW0QiMjGEAAEkf5GBCEiP1IQPzQHYCWBUTPoAGCSzGKMXW1d+/De/c//4Rffe/jo3v0HB4dHPkQBbqoTz7DqeOfClVXHteP5bJmPd83wnJu5NoT65OT4YJpa5X0XDYhQmRatl/GgkNgiOOSQGjudH6Xl8MWXP5mPxrPZStWeEKw1aZoqpd5/zT/y+v+c7fw1mIYIOVEsJMIKAZyr6jlJuH//4b/51795fDJdrqoQ2di07pa+67zHLkrXSbXq6tobkxElWpnVciEcV8tFmqTEARWK9875LE22d3abZXVyMi1yPRzke4/3JcZiMLJN991vf+fK9Rtrk7GPrLRCot5Pf9C7+GsQBAOyGBFBYHGOfROq5Svf+daffvu1xwfHRBQZIxOD6lxsWp8oCyAbG5PxeNt7gKiJ0rpqi6a2xiRplqZ2dny4mE2VJp0ZHXi1qiejyWJ2HKIgadIm+Li9vdM4L8KrxfLKVa18pCQREWZmZqIPZiD6xwrvL9ExIooxAKgQWAGjBGmr6eHjb33j6699/3vHi9j4GKM0jUOV6ITyQewcV/WqDRyxG62prmPfdU0bVEKubWPwInJ0dBKj6LQQ4c75otAn00VZDEOUEGlVNdvrk8NVc+fOu//1f/N/W9bNH/ze7xmtn3vxxcZ7UkpEiOgD3RcAYNu2P7nY/pxQRAQRFWnxMj/eP3j43uz4yZ1b77zx5pvL5fJ4xVUbokiMDKgYoOm6pqpCs6i7ICpd29zNskIjrhZzwTgaj43Rs/m8qSqldVmW8/lMxA/KYXBha21jWKbTk/2d7Ykl3N3cfPDgwWR98iv/5J/YPP+3v/t7//l/+V9sXLgMRIjYdZ3W+gNF0J/GwZ6+k4iIbJIsZtO3v/+9w4f3J0XSLufvvPX2qmrnlV9UXdW6ZdVGIc+wqtvlqmmdF2BB7lxbN1XrGhc6wFhVq+Pjo67rEDCwdD5EICCT5YX3EUntHxzmxQBRPdk/IlJt043Ha/tPDv7Nv/pXb7722jPXrn7/239aVZWIxBiNMR8UR/z0ggAAEblz586D+/eeuXHl+tXLd954/Y+/8pXValU3LojyURBVlhcM6H1wPgqQ0ZYUJmmS5omx2nu3Wi0AIYSwWq1OTk6IyKYpom7abjAahSCrqkLULDKbL65cvdq07WK5atq2HA5G48nh4fGffPVrr33/Ffb+9R+8xiKI+EGlAB/UWSIqECGJwJG7dn58BLOTS5PRfO/e27dufeGrX3tyUnVMddSLpnWMShsf2HnvvQdhTQigQa8blkybNM26tqvaLiiVF9liMZ1NVyguKQYRFGaFHa+HdrX0XdctstQ+enx/OLy5uXNh78ljY7J8KEUxiCFICEePH7/xyiub0/2d9fLqcy96UUGAgEkCAgCqH3Uvf/XwKUAAi+Xi+OCJIXzjB6+9/frrb9++M1u1tWMv1LS+6VpmhIjMEkLo3+Zcxyx5MUwSzSxd23VtG3wIIaTZILHZcjk/OZnmQda3z2NSGpvGyIgYYkCVGkOPnzwZjcc2SR8+fmITq4ARMESejEZ7e48at3pzsn7+whVbThhY4DRh/0nu6acSBAIAcoxN037lG19/4/U3gvd12y2r1hZDFvLeg0gMMUYGAO+d914plee5UhpJM3PT1H2aIyAgQqiNza1xwXvfBqMsKRNddCEgEQAFH5Miq9vWHx0ZrWLAx/v7WxvroWs5uK5rLl0475er7//Jt65dufnip382CDMCAyAi/QSi+Kl8hAAidF333e9+N4Twd375l1/+5M+0joU0C7Rd17aNd60PPsbgvXOua5rae8ccRbiu68ViEULoMzRrrTGGhYhsUQxHw1GWpG3VROea5ZJFWIABQuTOBSR1PJ0uqxq1ni+r6WLBiKu6qdvu4ePHw6z0q+brX/rS7PGeCh45AqH8ZIj7g2mEiAgzASyXq8Vicf3Gjfnx4fdeeeV7r73lfMiLASABhBgjx6iVaV23Wq5CCKRIaSJCH5z3Ec6ib1EU/WttdPDBGMOeWdi3FYtEIFLahei816NhZBEfRHBV1wIiInXTlkUuRMu6tmmyWFVZnrV19eDurR0IdjTWumSBH+Eh/oqCQEKOwsIgcnx8/JnPfOa9d29HwTpoRSowSIghxq7rAICUbprKh04pZa1OU0sEddO2bdRa94qQ53mMMcbYdd2qXikI4jvmEDlYiUIqxJimWV1XMUrnfZ4mNs2qalV3LrVmXlXa6EFRzuezg6NjDG5dJo34115/ZfPiOUUoDCL/binrrywIRcSIMcTOuSRJP/LhD18+v/v6W7fu788ZQGnNgs55EFFEVbUSiWlqRWAwKJnDYrFqmi5Nx9baJEmIqK4bREBE5zrna5IovuXolAZjFZJlFkDK8sIFL8IEmOeZcw4QyBhkXFarskgn6+tHBwdP5rMO4yaN63ZljcrSJCrtY18+/jHrg/mIyIEUpXm2tr724kc+/NGPfWy5qpbLpQ8uyzNQqnVd5xwpDaRiZBAAgdFwSIir5aptWq11nmXGaJDoXFPXi6augnMxOoAgElmYAQEVIgEDkVKkszRznRPhVbVUCpLEdE3dVKvEJiI4my9Nkg3X1iOgkPI+zk9my9lcfOAQfmyd9acRBAMLRBedILgYX/3BG+/cfne5qiaTwhpyXd25tnOOERsXvY+Eymib2NS74F2wJklMKszBt00zb5pZjLVztYBIcMgheO8iMqRAOVGOYq1K8qyAyMF1BDH4uu2WSvzAardaNctlkeVK2eWqRUrO715KKOkW7mjv5ODBvrholbLqh4bx/kriX0kQp58CQIjHR0eHhwdKqfF4DIDM7ENYLpYC0qt6j8GTJPHeV1XFzMZorbUP3jkvIN67+Xxe17VSCno8iERIPTLUmvI8U5qAA0Afhr1SajGdIaA2JkmS5XI5m82cc1pr7733XitVFLlzrm5qY61zrg/hP3b9lBA7cjTGam3SNEXExXzuvJtOpwBgjWVmItV7AWttX7w/K2eGGLz3rTAH75VSMQaOIU3SxOZJkiVJaoxmjs53ITqjQCT0qLRrW2Bp6rZtGkQkImZerVb7+/snJyda69VqycJKq8VifuvWreOTE2GOMf4kd/QBwyf8EK3FGIeDQQyxbVullOsciFibaK06H/I8996JsFKKmbXWzNx7DQJNCIRgtErT1LsYvMvyIkaxFpxzzKwU1fUKgK01zAGBs9RW1VIICdV8vrDG9BqnlAKA6XQaYxwP06ZpEkAiOjmZHh8eRm3y0fjp9T+1iD5v/ukF8XQR0XA4WN9Y7+GAUqpaNUiktZ7PF9qmWuuua/uH1pdJ+hoBEYFIak2S6CKzRLrtfAwx+KCUQRRrMYRgrXGu9aFj6fr9ocRqlMI7R4AhhLqukiTt1S2E4L3vus47ipqY46Aor169evnyZUkzUT8JjPhpBSEA2pjNzS2llfcelIoxKFJ9EjlZS3uFVEp57/uHbK3tE2QFmOVJUSRZlojgatWsFnXjozYJAGdZ4n1LhEqnTVMLM4gAizFmNBwu5/Ou7RQp7wOi69WNmRExhBBCbOp6fVCWZXn9+jUkEqLIUdOPl8VPKQhEHE7W0jTpuq4HicbYCHgyXZRlKSB90OoF4b3vdTjGmCR2mJdFmaeZzvPUe290gkLdtGIWa601OsvsYjknAiLwrkMRYQAWXQwGxUCiiARE9N73GyjWWhEhRVor5zsE6Lru5OQEAAhR/WQQ+4M5SxKNoBgpIrjQHhwfHB8dKAVd2yRWS3Cxa4s8C86lRrFEAe4llejEkh0X47VytD60awO7ORqMi3JcjrLEDso0sUrEh1AlCZZFYjQiqNSUeVIKo3MBEFz0OlMmV2hIkY5Bgmdh0MpqZaxJi7zUJqm894jbly4JEaBi/tEpl/zZ9QEh9tk+qwCEEB48fBA5JGRjCKx0DCFNkxiD0YoUCZ/mFKlNJqNR17kyz8ej4cZIpVmel6XSxofoujZ4naamCyEEF6MT0IQoAoCUpglzdM4571k4sNdWd12HgsyRiESof2GMEQAWcT60wQVhkyReRJE+3UP/y5/xBxLE+xczL5ertcla27bM4r2PzFmWgUiaZTFGEEAQoyjLEptoRZKmZjIeDAZZnidpoos8GQ6LNNNEQiAxeARmDhw9AIsE4YiAeZqmNuHove84RAIA4cih/xJgH5w2ylodYogxNm1TDgZt23beCQL+ZOXsn1IQIlKtVi+//DHvfQiBmft/tdZaG61U8F4rRYBKkdGqXi20AqOlLJIiT/PMWEPWkNGEyDG44FvX1ghsNCJE4IjAwCE4Z7XJs8Ro5ZqGQIQDIsTTFUSYORIhEQIgEFZNffnKlYuXLgEiIPrgfyJBfKDVv6fHgFmWbW1tR44xMgu7ro//qg+Tzntg4RitMVlq63rhfT0cZkVh8ywr8yK1VpGSGCGy9865Nvh2tZorEoQo7IVDCF30zmgcDQdZYjl64SActUIiCMGJMBEao7quTRIbJUYR0lobs7axrrRiEG1+tPnjn10/pUYgYpKmaZpevXrVexdjBASR06pcT1tQWvnOaYSyyBKrEotZZsoySW2a2CyxuSZjdSoRlGiOMQangEE4tUahWE0cffBOEU1Gw2FZJlYH7xVikedak1JIBERorSmLvCxzJOwhrE1T0hqIWH6CxLPXiJ9OEH2F5srlyy9/7GUA4BgRiZmdcwgIAkg4Ho6M0kliyyJXBOPxcG1S5lmapcMsKfO0TG2R2CwG0irxzmsF6+triiBLbf9vDK7rGqVoY3N9PBklSeJch4hra2uDYUkKfXBKYwiu6WqRSIoYpBgMzp0/Z6zpdfNvJPsUFAAhAQKlbYZJ+tFPfCorhiFEEAFhF70HDxgt4vbmRpZnWuskTURkNBiMBwONqLXVxiptjLUIGEMw2sTgs9TubG8ao0lpZbQ2JsYYfNBKDcpBmRepTThEZFmfjHd3ttbXxgrBdW0IPnh3dHzU+qgibI8n5y6eR6NQhAR/wm3QUwj859ZftF/mlUeINpAOJkraYnbxuY+88PKnXAgcQ5KaFpppeyLQlcDjMsvKRAizcpQXg0FeDhObAAdkJmFkwThfnvhQd25pVVwb5Oc2t3Y3z7cNZ/ka6KxyUZDW1jfW1zYuXrg0GU0g8Kgcrg8H1y+c+8iHbm6vTyQGYTbatG17OK/KTr+weWnr8rlaB3IhY/UXmf+fwxEfTCPwrOrVU+UQeDgc/NzP/2zDofHB6uSXf/6XLm+eT3UatT6aHmXWioj3oSjLJE0ZMLJohYrAKFQIy/m0Wi44+MTq69eubW5ujkej1WKRpanRijkqo5TV0/mscd1gNEiLfDAeFmV56fLl69ev33jmmTzPu6611iJiVZ9Arm5+/OVistNCEpQGZCV/A9nn+xhKQApFRHz70ksfHo4H8+PZaDD6P/7yP5jPF1/8yh/d23u4rJbe+cWqvn//LnI8mc0Wy9FkNNIxcAAGjBy1wslkeHx0vLWxcf7cbpKYZVXVdQWkjmdzQgFNh9PjED0C+xjWNjeuXL/63AsfSrQejcc+8N6T/els3rZtORxoE9Yvbrz0cz8bMQ0CrQqZeA0Sf4Lb/DO/8WN3yggIAYGwZ3tqAoyxANlMzEq4KAfr4/VrO5e7tute+cbDW2+39Sp4f3xw0HXt8f7j5ez4+pXLly5dKorSGMPMGxtrSqFWqJQyih4/evTg0eP5bDqdzqaLpfd+PBm0bR3KbFDkw2F56fLFF198fvfcblfVyui1tbWiyJVSq9VqOBoNLN380PXtC7uBCUGYMJJoxPgTuIkPLAhC7KURJSgJfrV89Utf/OVnbv7L/QOdKiZQCB//yIdpYl8fFQePHreej06mi8UC2L/3YK9r2q5trl27Np5MOMY8SxDHMTjvw5Mnj997+HA6X6EwkRoUBSl18/q1nZ3t3Z2d3a2t8Xg4HJRpmoKwtTYyJ0lijBHmruu6riuEDPtXv/T5S7tXRjev1wmyotBFPIMSf5HvQ8SfwjRQAAEFSaJzCrh59Og51C9c2G2GlgrturZezjS7Z29c2R5PVp2fL+vVqmqbFUTPvvW+m02PjVFZlgmLUVgU2cnx1Ds3HJSD4Yh0QiZZ1U2eF88/98zaZJImSWK0EtECmllARKmeJWSMsdb6EGfT6aduXNywyWuf/Z1XHx19+j/+x1f+0T/wqviRG5//7vqgafipyjCIgGhNSDAUKVz4xM0bX1pOJaXQuaZaNPPjB/cfvP3m7XnTjde33nrrHUJZGw0vntsaDYywB/ZG9SlJBA6AMhwNy0FZNW46X8yOjqfzhQhMn+xtrK31SjEZDbvlan0yLoalUtqASdNURIwxzoeyHLx49fnMMR7s8b1373zx9y7/738BhmNUIPDjKZQ/WhB/nk1yZjIIKAgRBAG0KAaLg3V1/kp1/1GjoHVBQlCB26p+b+/xG6+9DUH9/f/DP6p8/Pb33nLtqqqqLDGFHgxHa8rkJhlYka6pDKhSa9B+tmhmx7MPfeTl77725t7tPWOTjz7/7Hx6+O1vf+/C+Y1rVy9sb2xqcBGlGK9lxhRJ5oN2knTd9EOXtybOMykzKraycbqIflnB0CGRQJDAChQCCiJIBIXMQQRAmcAESH+hRvxFle9T4wAABkDNSt38+Z//wa23sVsYLyqKyVNTFBvr27/4t7Y2Jluzxq+Voxeef/7Re3efvX6ZxGltsqxI8+FovInCFShn62Bd8Oy6k+FguDYev/Ch5w+PZsVg9OLzLx0d7c1moxhXnWvrrvYhCiAAKgWklRdAgN1h+aGt8SB6SAchscoUErSIQgQhQCSFCiNKYE3IpF30igARSJMEjPJXIJM9rVZuX7vy9vmdK8vBa+/cc1W9LEso02fPXRGQ1kc3O+mq+SdeeO7lm1ddU4WuGq2Xg+G4KAeD0ZiAkWPX1D5KRHv9ermo6+X0aGs4+JW//3cQFbvZhe3xpQsjpZkUGWOz4djYHIEigdMMJpYWrlC6sVpmGRqSjpTkWRyOKC27CBZ0BCIiREFCIPQhJnkiMfiuwwgkjH+VUl1fmJXIOChHLzzHb9y/OdxaHh7SxsBOylL0yjcdr7SWerX0qwpCMBw31tdH5zZsmmubojLCUZk0zQsvqDJfraohonPOraZZlsUYFGUkMBlOsiIXRTbNSRtAg6CYOCrJSmu4fX5nc221IKusa72XOamLzz2Xb5ybLpvFYpGU6fH+Ibtue3s3CnqJe/uHk+HgyoWdGIPEoAn0j6Th/Vj2TW84RIQIoNTuCy8cv/HgQxeutNPZmlFekdHWEifsNybjXJGMBuxCYtNyNMBhJqjTvARtkBVoo2xakElFbJK6rvFtKzEQAiW6GIzSLMuKMslKZS0oJQggFCOHzndNq4TPr69/+sMvDvfuHoU2aVzsMG7sfuvx4ef/+/9x69yVkc7/9JVvfeGzvz89PvrYyy//zM//4qP96eODGUv8v/yn/+iXfv6TiUbg7q+BZxkENi5dG2xtt8dz9JGaFmPsQICsNemwKFJCAghByCRZWao8QWOTrNTaurYlbVSSKgukVFGUItG3LXNEEEBIEmtsapNC6wRJCXLfARJB0IewqOOy/ds//7fXhkl3vNdpLDhhUPVg/Vf/4A/slYv/0X8w/p3P/sb3X//e8fETkfD7v/c7t99978WP/VzdxMm5K//8N77w6qtv/df/9D/cXC//qoJAABBEnV7/6Ef379yxIdK80Ug1MgZSYBKTJUieA5FGk4tNUEOSZtqmAISklUmSJIsxIKLWGpG0zfhp2MIOlBXUIgoZCCOB60B7QWzr+mD68WdfunLx6uzg/lFd28tX2mCYiiNIdl76xDMvf/Szf/CFu9/73tFsb1hmgLRc1e/dfzdisXP++uH9w5deenHhqj995fV/7xc+/oEEIX0iLtA3AyAiSm8gAJs3b1x48YV3b7+tXCSKnTAHwiAKFRpjwGiTiM2EFCk2NtHWBs9EpLTWNiEPwn3VXpSxCpUgCgACEWhAxcLBe0JH4DyqLhIvVmHVbA0new8f02qWTDYwG3KXr8B88XuvuusX3njzrSePHhWpjcPhaJRrDcYujmfNg/t3tMo2Xrh2Mq+LiTk4WTx6cqD/grpFX7ySMyYW949ec0RAAYpCjAREqKgNcuve/rf/9HvV3D/38V+YK4fNifWrgGVUVkgjGRQgROIIIGxTY9PE6MbVjIxIrEz0gaNDRGMMAIDEXtCEKTPH0LGIQPQxMnOQ0HZdvVplw9LXy8X0pLDJ5MJH/MlsNSy+8uTxYr10q0V99OjCuno4n82rqovh3LnzSDExbHV4fPc7xfpkkjw/vPS8pMN3D/b/Eo14KgUAwJ540rLRSkdAY8kFeHIwf/fe/b3D5azB1UreevNu6+JHnrmYqQEEUaCeFgQRoaeCxhBsmiRWu66J0UsMKKwRQGHoOMaICESqfxSAyICRmTmCCKA475xrfWQXIgsrY/LJ2vp43SBG52l9/NmvfeNrb98vL16bdc1aYe4/fnAyPYlRMcv+/r5zLs9zrfViPn949x2l0qsXdst8x/m/0Fn+udYEBEARUMaiBt/xrduP9vaPp/NV2zkvFEQP19Zf+OgnTh4/+JPv/ODl568mmJUE+D76Z1/pRkWT0RA5hq4NbQciyFEDAFHDsWtbRLDWwg8jFzIzxxg5+OC8d953USAwRAFEZNKMZLK8nc9//cu//+qbd2YVzyu3c+FCdTTfPziMMfY1agDY2toiouPj4yzLjHQ6Vn/ylS9+9KXrmP14ZIkiKCxKqcTqo+OT3/qt3/7CF//oB6+/0XROG2utVUkRVJmmiVa0s7Fmub2xU17Y3sAYehH00IuZvfeZzmLbHE2nwfvgvCKSyIhojEZg71tjSLTqrRMAogBzZI4+uLatRViEERUiRIDIogw1rX/99muf//wX3lmeGJMKtJtljtXyZLrvnGdADWitLYqCmZumQURtdEK8VqTf/M5rD+/fu/rM7p9h578POwgAw2lPYe8R9R99+eu/+j/8d1/68he9D70lIymlFAt6MAwgIrdjcPXiwxcnN3d/1rsodPr5McbT5xrDD1757mw2WxtPhLltmuD8oBwMRqPOdRJjdI617t0wAHiWGEPkEKMXYQDpTUZAfIjf/Ma33rl15+R4dnIyy4si2dyYHp1MyjxJ6eho33c1AzAic+yvwXsPAFmWIYJIMCQo/OjBg83t4V8eNQSAEAkg/Kt/+Zv//J//i+9844+MVkWRcYzMURFxDFbrTMUuMCht0mTpaXpyaLRmBX8u/bfWOu9ff/X7d27f+ehLHyEA3/nHj/cI8Pqzz47W1rI0i8FH79TZXj73zcIxMMf+MSGKi55F3bl793Nf+lLbBgYiY2vAdn++tbm9OS4f3rvtfOuYiTShEgmLxaK3zRhjzyS4+ewzy6YJkUMI0f3FPgJQQHrGG379j7/9ta/9yeO9Jy0mF6/dODk5hhhd0xildUJIguwDM2nFyraR3ts/cZQK1j+UhAAiam26tv7YRz58+fy5xXzuuq5rmszaLE1QRCOl1vZ3zxL75xCw16QgEokQQHpv6l3Y23vctJ2QAWUDEqC+eeW5xNK9B2+vfCUYQOnUpmmaN/XKe79YzHvcQ4RpmqZ5ee/BQ9KmKEpE1DHGvrXhz3pHOt3vRXbOv/7Ga9PpyZMn+2vnz1957uX49j3fLQQfOt9MJpeKfLh/cJcjaW2M0YNxeXB00HStxV6LMXCMKKQUk4hS460LoHOli9B5P+p1Ndd5CqmJxhilhJmFe0ophdCXmIWUADKSsLgQlovZo8d7jCoCkoAxZjIeEoeH9/fatjZKkzJaZbkdpPlw+9y1o8OD1WJKCMZqJCoHZdPCfNGsr20o5icPHlOPI/6dzAIBFACIRKWxcw1zbNrm+OTgvQcPr199zposhEYpv5gvsmycDSfKJgBS10sFPD3cn09PEJGMVsaQIiAEwiDCimpSnGS6GJlimBRjXQ71cKQGJdokomKkSBQJI0JEQWESUUhECkkLaBdpVTeL5Wy2XEQEJK2NzdIk+u7R3n3AMBoUg7wYpOUwL7M0R6Da8ZVrNze2dtvODwbjNCtH442qionN1tbGwfvjo4V+f23/3020REAptTaZINF4NJ4203d+8EqpsssXd6fTdxazKrW1a5fjwaSaLV3nJLJGfHIwe/fdB7uf3CQAJCBEEfYu9DHZQySLKoG260BDmmVCEZgMaeQYhEViTw35Mz5GgJlDDK7zi+VqOl/N5ksRNMYaa5l5tay1ssu6Q4pZZpm5C1GRI5245qRZ7W9vb7Ps5uUwBDY6DXGmTKJtUgd2If4YQfSrbdvpyTRNsw0rq6p9441vv/TSR5658fybr78KLCdHj1WaLmZLoxAYm+BdF777yuuf/vjHgD0R+eBd03p/ChxT4ug9MqdpCgCd60CRBQIELzFIMEYjAXDEM/owAohI07at903TLpZV7XzrgklSk6QxhBg9gXS+9tGFzrddbYwBaBEUEojiky4enRxubJ5Ly6HvAmm7trG5qGtQ5mTVkE20915r/aPcxOlSSiVJ4pxL00Tqdmdr43i+fP3tN198/iNXb3z4jVe/k6aNtFgWaZqkeZZyjDH6u+89Op6erI9L57vgffTdo/cenBwfK0CezZbTeW7s2nDkOjddzG2WlOubqixMntoiCalVCjWiBhRS8Sx49oyx5WK5qurOSwCKgk3bDbKsC10MMWL0ISAqAPJBjFad7xAiYBQ0oFRSDjuGohwawlm1MGkekEBbJqP7CP8XxI7TlWW5iAwGw8XJiUnC1rnN44W78/D42qVLG9vnFLbAsSxSYa6qJXMMITx89Oib3/7W3/ulX2jbxqDyzqXGIMfZ4bHan80Oj04at08qhOA5+hhkUMQiKTfGl5+7sXV+2yrdQ0sGFTi6EF2MnT9td2qjqLT45Kd/7ktf/mqSmhCDdz5PjACqKNZm1qZ1XYtAjJ1WoARJJ+PJdjZYXyzrjfVt7hrQ1mQFo5otlipJdY/5Yox/SSWmLAtFdOHKpfnJ/Mnxo+1xvnXxatdkJ6s4WN+8/eY3xUWtDSmltRaRyKIT9c1vfuNTL39YEzH76H2Z58/eeMZev5ket4vZzK9qdqGu66br0Cgs086SFIbytHMdUxBAQIoCntmH0IVYt93JdNo0DWVFFPyV//ifPNw7vHPnNgoDgNHKpuX6RsmsNjd2xuPx2++8vlxNQ7tSgW2xvr55cXP70mJ526ZZkpmG0oahi5Gr1e5o0G8Cy1+y8RtjvHHjxt/5u39nWVXDwTjN8vv37kWBc5eurm2e86I2z50Loa3qRdOs6mbVtE2Mnghv3br1+htv+BCZxRptFCGAj7zsXMviSYlNsvFkvLOTjkY2TdfGo7XJpMhzZvbe+eCcc23XtW3btq1zbrlcVtUqy1KltTI2LQc/83M/F1liCMZopRQL1a3P8xGRzfPB9vb5wXBSlhNhU5Qb5WC9HKwBGWOtsSYbDLvATecU0ajMtWsh1aAtKOQIHJECKWSlIyKwAiHgc+d3q87vHc+MDZuTsRyGO9/6Kr1Yj7cupOsX513Yuegf7+0BgXMdCBDqxKYVuzfefXjzxU/HapUEh+IbZWohlsW0nS4W8xBC7z6NNlk5KCxaAohsBBixE+nEI4cQQtW2Vd1OZzOrjdXS+G776nPJ6Hw23i2SdCND17Vtxwx2d2dnbVTWi/nbr+/ZNEtMKYbKcQ7Fdkw3bFpINS1UDCE6zFW+lpDbGA+GCegYY4iRY0QCoPfnGk8DKPgQbt15t2q79WGWiAyHPrK88f1v716eXbj+3LgoCLeXy24+OxmU49SapmnaumlcnQ3GSTmeLZYGUCQKA4LOxgOPIpbargMRpZTSGqxixRGjRCFFKBxiYI4cuxC5quqj2TwwgrUrL5OtCx/75M/ULsyrdjCaiF96RlsMB5vnG9fdf/hQAccY2xjWtnbquk7zLM2LPM9Bwnx6tPfowXPPP1/7UcOzTOk8T4s00S4GH4OPBISKNL5v7x/6FAeJQT37oReOl/HRe+8qiDpJB2WBIE/uvYOhvXb95nGVXbjwjMKHrltl+VBpLRADFd9/886v/J83cTaPLhqKCQMIqixdz9LRxlrnuhgiIBBSYI+EWqkYAiFIZPBBfKhdvWq7+bJpPFCS15BevHj1Ez/3t7zJ3nz1rcPjYyY1W9VA5sKVm2Lz+ew4uNp7jwgcvU6SCCzARsN4mM9PDup65Z2fTNYfHsSiyAtyw7KslnPtY4gx+hCISGlFiEpQ5CkPAiPL4/3Dcxcvn99fRKQH924nwAA4GQ01wdHDdy3izsXnFrPZeLLd1GndVMYoUgCkD2fLR8fznQtXmj2nGSAEBaSKpMcm6M1Zng4htggMgtgRhyhIwuSjLBt/eDKvvWA6HGycu/bsix/68EcbF96+c+/Wu+8qbeq6IWXTwRpm43I8zoeDxUk2PXgMMSBAYC8cAwghl6l67+2HvlnWqyULbG9u0Ml0khUS3aqa6dY5F9POi1aGI2tNiMQCRP0VYt35w+MZmVTIgM2u3nyeq9nevXfYtzvb20S09+g9sIONtc3lajWebDXNdH//HrPzdXP9mZsqH5w4XwwmoQqIygAJRudcYBZEUqrHS1YliBKj+CBRsHO86Nx8Xj06PmHQF68/c+mZ5y9eezYZTOar9u7dez94/c31yboaFQrFJgnZFEzmGOq681GKcthWCxCRyFGCTbLpdN+1i3Y11SiIcHA4nVze5s4MUuzm08lwqJuuc8El0bDonv59lncKACDR4eH+8Wx2eDLzjMPxxnJ2JKRNPlzNOuXi+taumJMHj96xFtfWJk8e721uTo6OHy5njVLE3iV5Np11gKZMSuWc7zpixyGASF+9e+qKBCAwOFZtkKXn4yZ0oC6/8Ilnnv3QxtZuOhi3EY5my7dv3X3v3p08tR/+0LNf/9LnMHSoUZESMiy6qbvlyUJzpwFi8L5pkHlVLQ8PZpP19c3J4GCQG63ni5W/f6ttVh3FMjNrazu66drO5bkl6a9FBESQARF72urj/YO9x/vTuTs+mR/PpqmlrnFJXjZN7QA4akyzJMzfvf/Wc898tByVT/b3L1252rw1xc4b5LZzG+fOt0cPXWh8XUMUqRYsLCxy+icRAVhAgDzLsnOLxgXSO888O1rbmKyfJ61XERbT5WyxevDo8f7hcZokH3vphXv33/3ql75glRCz0ZqI+vlDwQX2nU1U6Hxo2tC2C1+N1s+7tto/muVpopAODo/H7co3M47+wkdf8s7pNsQuRBGSIKIF+vlfJCJMRN6Fum4PDo8CDihJuraRgJPxxNUaplNFuKwqZg8BE2Xv3nnnQ88+H7tqNa+3Ni61rTt/9dl7d+4895GX1jd3olWBYXl01FZOQJgjMMsP8ZyOQD4y2iQbbwwma9lgiKSbzhFL03UHh8erqiZUBPLCzWdivfqNX/vfquViaDREBtKgTOAQnQePa5Nt76vouq6tXdfqND2/s71aTOcHT9ZGAxc61UznjjXxzs6utcm79x5oD8ZHlJ5zFU+LUgAgPhCaumoePngUIjw8fJIPBjeuXXn79VeN+OjaNE3r1RxiS1HW852j4yNjZO/B/d2dnYNDl5kxlmW5funxe3tlXj7//M10tOlBdJ51Rb5cLBbzedvUwfXkwC6QxSQfjdbTLEvSnIHapjMGm+64alvHbPNiZ7xz9/a97c3NtUH5//rv/x/Tw4M8zTg0ytiISrSR4AnAqixNR3Y4WIV2OT8aDYa7N24s5/ODR+8lSUZpuqqXW7khMhEJtH334ZO1tU1tjI0CniODZhAR7tNQBAhRDo+nfSH4+PBQ5e7C2uATH/vI3qMHla8Ha5Oj0MSu8bHNx2t2aRFxNpsZYzY2No4OD4ssaVfLYjQ6Pjo+Pj7ZXh8OyqGkSYcmK0fDybrrWt+2IfrgXQQSMlHY2IQQAcH7UDdzBirLQTYYqCR5+813JIYb16/928/8xt07tzKbS3AahYA1sgaOSG0X8jxHpMjBuZAn2aXd3VXXTadTY5Pd3V3XdiZP5stapemlS1cbF9bW10BpTTaLgC5IlN4/ADADIhAB0oNHj6vWBR/Hw/Lh/kF7cN8QLBdz19SS2sTazmgE23XtuXO79+/ft9YcHx+mqc3ydLmcP3rw3rX0Jub5/uP91NB4kGibqOEa2VZ0ArpGnarolfed95E5NWnnPYdIytgkmYwm62ubEeFkPr/1zjtHhwefevkTt99886tf/qLR1EWvhDUBgCgQQvEiSAoFtLERGYnaNrRddzKbubbb2tqqqjoyh5VkeT7JhsVo0naOSd25/54OQhFIUIlgZBZhQCUciTQa3YW4ajofMDGqTNT8YGEUHR8eatU3NIKQBozet3mejkaD+Xyepun+/pP19XUI8vjh/d1zu0metXVzfHwMcbA2GeksNah15MAoqENTgyZkQQghstY2y4tiMMyLAlG5Lp4sZg8fPZzNps8/92zsut/8l7+OzIiIggwSQjBJgkQg0NOzOURlrQRPWrPAbDbv6nptPAohBB8YEIkATZaXSZLZNDc2yctcByDPGFgCSxRhFsVRAEQkeK67wKAOjvaLchjbVWItgJy/eGk2mzrn8qJMCzw5eBxdNZudjEajxWIuEiPHpq1NUkwPD04ODwajCZGq6xY4AEBuM60oSTOllO+UUsQxkhoCMJAyNjEmAaIQuGnbxaI+OjkRoPPnzm9vbv36//ov9h/vjYpEaQ2BMlvo2ESWCCTKRBeVNugRBIlIm0RsEkNcG499CGmSDgZpBEKlsywfDoeubUir7a0N4aCFdOdd3bmQahESYWZEQhHpQlg1nQsxS7P9vYdrw+Ktg0NjE0V87vK1pumatmEWsJnmVgCatt7YXNvfP7DWrlbLic0xxvt3726fv4AAeV4aJdWqdthopRJrFIFWpLKUQxACpbUAsUDdtm3rmq4LIYZAiLQ2Wdve3vz+d77zrW98fTIcELBok+e5AlFRBecpKSIa1FEZ0y3qKJDlRWTRxhQ2C75VpECESPkoa+O1pvPBuaVvtbWP2QuCBlQ+ROc4hMhMzAyMBAjAiKSMOTg4Go5GWZqslouLFy+/feu2CDQubO3sjNYHLEIo1aOlTZK2bZMkSdO0bVpjje86pYwmXC4Wq9VqsjbJi0IBc9f4rmXfgnDwzmjNIXQhgNIM0O9N+X77yyZa6yRJ8jKbz2a/+zufKbJMAyZ5QVkhOnVtw+yUVdlg5KJAjOPR2uG0Ojo+3szWB+UACZrl1CgIwqjM9mS9GI1PZgsAOj44SC2SVsu5unT5kkYJDfoTgDL6zBmDKKJAXEHBmmKcWlfP750cbG1t1229wvaZ52++++rb4XB2MJ0lQ7MMc5E4SoeRo0lyH/xoOO7afQ6xa5f5YIjgx6OiXs2Xi3I4SG1qUUE0JoQgMVIE5yOKIhIWRgCjlbYWSYsgKGSKCekU4bd/69+0s5m21omg0soH9LVFipSNxxNDsjy8o5I8ybLhht3fe684bobkp/VcaQKtMQTX1ft79+xRwsLGGEc6thQ5PvPMMxaVJo5diC1DQj7hQIwWo8LQMSPo4Nrnnr35//21X0cAa02CghCee/7mg9v3quV8vn9iChoMBs3KK8LEWgBExWmaxhDbtk7yzFqjFW1ubviuOzw82FgbF4lVWmutJXIrCOIRkZCAxBhDyvQhgxG7zlXNYjabf/mzf/iD19+wWTGYTILC5WJlBDUioirKPMsHjw8PyOj1wTD69vjkwCgIXT2bHmuSNM0EgAg5xrapurY2xrBXAgSINk2B4O7d+zo36qimWSfMoCNb9OumI+KWVWjapnWbGxtXL1++9dabzz17U2LAXCgb7D53Ze/BXvXYGbFhJecuXHTOdU0dWKxVWTFo6qbtqrZpAYGI0jRN0rQoM0TqXAcABKhIpWnqiBAAlBCh0kYZo01St93x8fHJdBZ9ePfOu9979Y18vFkORyrLAkE52Y5145vWoDJKPXr8uHLN1RvXs0Tdevt2Vy3Gg2K5mMXgTGqaptbG9u0XIQQR8d4jokm1D1779LXX3/Ce9SAxVhvn5aRDrBbWgwEpykxUOl1UtignG/Lv//v/wT/7n371yaO9a5cuPj7cT9dCMp7s3riilJm+tz8YDUHpVT0P3hMq0klaDJvOI6q2bYP3xhh1NkIky5I8scyRYxQWiVGDJiDSKAiAyAyz+WI6n1dVXRSD2MRXvvuDcrBejsdRqaCIFSFLRFo1LUaGGKt6NdlYM1r7ZqHFWSXzkwNDgMBdUwsIuE6k75bHs2K9tF4iSIzVyaI6d/6azjUN0sR2rlo1J3V1CJQneu7jw/291vObt++ur+9evvHsP/iH/9Fv/PqvFUl2/srF906Oj+vV1sa5K9dupJy9d+/usZs/e+OZJ08eW6PrtimHo6Z11eKYFCmtY4zA0k8LMMYAodFW6x4KyelAX6Va3wlD6/xsWZHSa+sbMfBv/9ZvC1BS5EwqAGgyiTYkjKbLizw0dVUv1sfl9takqqcnTx7PT466tk6tcc6DMMEpObVHzL0g+nyXRbyPpJNiMCJtdaZVIm5Abn2jPD84N7SsbFg0lR6n2+X4wdT9L7/263/3l/69Z1946e//w+5zn/233ia7F8/Nl6tHd+8dm8Ha+s6uunr37lvTRbWxtXt0uA/KuMCjtbXZ4cPTwauISGissdYqpUifdvkrov4BAQsDeB8Xy1XddnXTFmV5dHzyu7/3+/XJgogYhDmygHN1kpf7+48SK+OyaNll4zLP7f07bx4dH7HrENggsQsgDAin2S2JCDzd3CQipQjJqlSZJM/ysvUR3717WKHURBAJOmm9e7xarto61bbt+I033l7NV3/6J3+yNRp+7MMvPNrf+8bXvwa+vX7l8nCydjBbHaxarXSczw4PD69evVJXqzxNptPjGMLxo1tG0Y0XX/r0/+6XLl9/ZmtrK81sYrVJlFZKkyIkEOEYOcSmc1XTLBYLIpXk+Z077/7+Zz8/PTkJq87FIMaQMZPxmgVVT5eBG7AhAXSLRVctZidHjauSLIHIIsIcmVn1HNB+bjYSCMgpRkJrjDFa2YFJ8rQYpsVQpaU+rEMd/bRaLuerxayqOq61JqXA+c5HNPmFKzttF7/51a++8dZvfezl53/2Z37myf07b/3gtcn65u6NZ3dHk7YLUSmbpScnR4lS0+OlsVYErM29a5EUEWqtSCtlDCmllEJEQGKR4AKHEGOsqqZzHlEPh5PvvPK9z33uC1XTJkm5Nd5sutYFDwh+OUMgv1ow+Ga5OFquwHuFnKQqy0c+OtJaGASEiGLknv8UY3DeASAgAiCgBrKgDGJm7TDJhroYJuVQf+nWQdd1Td12zscQAAjBE0YC8J4j82p51AS89PxH3nrzrc/+3u/tbgxffunFT/zMJ965defVV767ce6yzoaetChlDMWuyqwZr08e7B3k5drx8eFkfSsfDE2eRgJBI6gQgFk4RGF2XeAQY4gcldGmLLM//uOv/8FnP8sCWZJXVR07F71rlvPUUnRNVa+865bLaeCutyp4XxMvckRSREqYYkSO0nPwJAbUhsiQsWQS0laMBSzJDKIudDoMSaGfPD4I3neti5FJaRACAESQyG3bdl0XY/TOa5Vevnx9ZPz9229+4SvfuHnt8s0PvdC5eO/BYx+Y8iGiSoqhRwwsx7NVkpUhdKPRaGt7Z7w2McYSnYogBD7ddAYJGJ14F73SdliOv/a1r/7RH31JK1nMZt1KFJFrWRNJaA9PpqGt2HcosXVdz0tEBK0NIvUu0CSWI3vfY3MGQQAkBJPkpDQpg8aSTrRJlDGGEmUTJA2AirQ+OZ5zFO+jiCjFAABCwhx811Ns+q0w54Iiu3Ppmawc7d1/9827j47n9QvP33zxQzf2Dmf3jhaDLBVR2XCjbRpCyvOy8o0ibLtOG2tsQsowEYjE0yRXAocgLAZ1kqRUfP5zX/jc534/s4pil6moCYJr54vFfDbzrvVdo1EUYZ5apVPRWiullSZFPU0thFBVSzktJohSikjTqWc2pBQq0/cGKZMoY5TOVZKy1kyE2uimdiLCLByB2YsgAIIwR//+NlAipZSxabZmszQfLk5237v91le++o2rF3Y3dnYvn99ZLavZqlrVbZ6mzDDOSxqOpifd8XTaueCZVV/xIfIh9pNqWERAbGJR42c/82//5Mt/rCBW84ViXy1P6sWsrlfOxSSxa6NCYU6IilArcpHbwK5zq6aOMZ6dJCBEJChKKa2NCBKqnl6CKiWlURulLdmEdEJKo04jKdIGlGFQum3b/rQDEGQW6VtnJfaCeDrzXCmFCD4AC5EtR5vmZlrs3bv1xlu3bgpsXbSjMi2y3dl8sZgvlPBqMR0X5Wq12Hu8v6rqQecBO6U02USQCAUREiKlABH+9W/+629+6WvShWq1WM2noa0lOoWSZ2meAhJ2beOcE+7r88xAgurMM6injExlVOQeodoYpPcXpA2ZArUmZclYpRPUBpUGZZgUaSuoQxQdQndamBIU6KUAIlGii2cbxEgIrARIRxIWQS2ExXjryjOmzPL37r41KNNL15/tAiZJkhp7vL+3nB47YJukh/PZw729nUuXe7vVWrS1BKKArUKN/L/8z//TF7/weQO8ODlu6hpBvOtABBH60VX9HjUAICkkRG0UKUJDhGczDJ6StVD3rfNCxmitjTGWtBVzqhGoDCqD2iilQWk0RrSOgBBZO9+e3Xw/GAgAQDgIdzEKcxQRFAJQACiiAAhIASpUoNOwdeGyaxbf+8ZXbr39zsaFa0k6AMQyz6rFyclyRdokw/LNN9/62Kc/bbQhrZXWqAlFDAIG9//7tf/tD37rt0PbaujY1cQxTTNNSdt1pFSRZYTYtW1kJqUEiJRWWhulDSk5O6oAzgCjwsTalFCFwBzF2iRLMzI2KENakzJCRkihskobVChKCWkGZBYdYs/N6VmcKCDMAizRiw8BTmc+c4xijAFikQgQEFFAidbBFGvXnq8lHO89mL32rYxgsra5tnl+PJhU2sxmU3Td3nvvLY+Otm6uJYkGDGSSVGm3XPy//4f/5x/81m9ZjhSjoy5AtDY1Ju/aNkuH5WgSBdp2RUnRRzIRSJIkTRKlrJx1teOZOhBRmRaI1PkQMWCudTmAJBVSBBYJgYiQkKg/oSMazQoREYSRgxY5+yTEfgZEbx8s0s9iONuJEuj15tTHwSkJUJHKyt1rL46Hk/rwwfTxA01S5KkpB2jIpNbYpGmbW6+/WSSJsQkqMnmKMXz1i3/4+d//gyLLVAxKOKKZ1ausnLCobFwORhuoEwYsYJ05eu/PHDYppRC1oIZTfhUSYp/IaGXqto0K02xgi1zZBBSJIIJ538iMMwohISD13yAI/q3/6r99/3ANOQsh3nV9uvp0Dr21luhHjNKPkX3nuZ4OtF8e7t279y4jXXvuhcV80dQVsIAIMxNSlqYIKFpJDCghus7VK6tQEYYQVk27tXNu1QVbDLLhmhdQyliUGIJzro+IIiIsSIqUecpjERYiRCIEbNoOFOXlQCepZ+YzQcH7mzZ7UhI9VSYUEA0SsB/GAmcqIfz0q5/Qd8aY6M+6kb7noMftRKTIIhatc4fz/dF469LN5MF791z0WZasFnMUUYjcdiDQ1A0hAWljtI/O+Y5IBSRQypjBwOKiw3S0WW5stBGUNczYNR2QxjRBOB3RqRAFiJ8OW2MWEUYkorbrqChtmpJJnECQSEop008d6t2IiPR30W/u9mABhFkjMDMrUlob5v7+Y5+6KEUA4FyX51mI0XuXKAMgfUwl6jtbWDiyaGWzlrGdLjKrBuubeZE/efDg05/6xD/9T/4TJfDPfvV/vvXWW4OiFIFEp413gqCtAQWdd03XGF20q264uWnHo44wKAiCwqKVxrOOhX6ezp+bbIynMQ8ZQCmlNJFJBBWKaK175X/fgTSnwmARBOk3unsOhAaIwAwEAATCIAxy2iVylrdziKEfhiY/1Jc+pKEIIoBREQ2Ww8HJwWp1PB2VuSFrkH7u059aLeZ5lr340offeOuNDgIzV5UHIFTkAEhrFzGg7iIl5SgbTRoCTwiAFAQAUOnTEkJvue+/oafcnh+e9wJAyMh0Zu0AZ7n4+xzdKbzvR2afLS3CAlEET18A98Mj4Yfvjl3XFkWhFInEUy0Q7id+IaKiSBAIQpbYjfX1J82qWlQuL9tV9bnf//2Lly6tb66/desdzLSk2mqLbPsjWTrniFEZmycZiEqykpJEIACKYtQIhMD0vubL9xP/zl7J+74R3SPD3mucjWMCkKfDyaQf2HtmU/BDXqVGCaeHfwmAMPRD8uTUcvompOg94SkJ+PSMLOlDF0j/c+CeBGSzZHv3HDiXJCmieu/Bw+PpfOfC+dvv3i3G61W9mi5n0es8z7I0zdLMGNsPs0NSmKWsKDEpBI/CBEwgfVJ0+mjPdIEBhPjPCuSpmqBIbxCA/Ulp/QX29TlmAOC+ZgdBzoQCABrYUw/i+inNMRIiB7BoGtclSYLKNK5RDMwcJQCCcASJED0IIHAgdFoBcd/sA6k1WTqr22iS0ebu0Wx58M5eMdyeVdUw3xwOjIva+05nqVFkrPbLBQp0hElq8jQNPijRETkQOIkK1VOdPlMMAoxP1f19RgLcMSIppZVSIFK3DSJaqwLUp9MkBUDEO6fJJMAQo5w1belwRpfqx4n3DeiemVAEyUcmVAzoQkRA5gAgIhE4SggCgiDIYgWAQaJAhOgjmQSidD4KmWK8PkzyvCxX8/mTx49Gg8HGxjqihOCJsFouus6lidHaTPKcQ8DgMQaKrIUVCEcvp8gXnga30x6eU9P44VNVwggMIcYAzGwJYoyhamyfocSoEL3zORGBj6HB3tOeCsJLj9Z7Q4oRkMT7SMQAGEJMEg1IIUQikhAAorAIBw4BgQUAxaNvWZAZtE5RMDPWYauSTGyWmpTJOKHB+pZK0v3Hj7r9vY31dQ5BJAqhMFtjkRS07WI2C94rrX+IfhSd0s0Eeu+PiETqdDwGQs+8OVVvBdKXq2OMMaZZyhxD06JEjEIcY4gaUBHFEFlqAD5l7Qjo0Xjd+9BnL326qRQhdsFHQXDOh8jM0jqX2MSHoBWGELDHlX006Rw1KwHlA7fSKJsM8jJ0HSqDNgGdMBCSqlywWXH+yrVqtThZzAnEd21mTD/5E5jbalXXdZLY0IGI9DkTK30G4XrrIERkUoiqv4GnnGFEBINw1j+GANVyCYjG6LbzIQYE6LMm9p6FMbKcqhsgot7Y2KmqComMMSEE55wxRuu6qmprk+VyoZQajiZ1XQUWZVLnOtdFBGFmhUqEnGPy2HVtZIks1DTj0cT7VkBYJAQPyvaExRAjomRlYRMTuk7SRJyDJA3OJ1nqQ+hLac65GCMoUUhVVTGfSoGor3uTUhrpaTg/kwIAi+o7VPsoT8oYY4AgWqWQNBIIcIzEDADUtRDj2QeI9gEEtO+CUhQjuY4RwTn2IQyGo1W1isyj0TBwBJHheG0+n5l0kGfp4cGTLM+IkFmhzYek2q7WhF29EoxNuyQk1zWRNGhRpmerRelHMxLpJCGjG+eUUhjDcG3NA1RVFWNURkOIQCTGZmSET4N/byxEBAgRmJj67dKnOQQZG3wUEKVJANIk1Vo3ru1YRoORxOg7pxOtidq2M/lEn6lbjFFHBgbqQkxRCcQuRMVCxihvo4CPYoxBpZF0VVW6CyYb1FWVFEOb1Z7j5tq6C9jUzda57WoxldAqq3WiGXyWloQMKAIM0fdsQkRhpUSihKBF6rYZprnRKsnLKGJRdV0HwhCiCLM2FBBEWE6r8YgkREBMCMyCfHpo3unSaYydMBubIqJKU+e9i5CnA402stdEyBADa7Re565PXkTQoPYhsAgp1TnHMQpIiKyMVkYziE2sUjoym8Sa4L0LeVFo7boulIPx0fFR1cQkGyxWjY8ShVbLalRkAhAC51lmkgSVAWViBBYQJpGYxIiApDQKH7dNtJr7LUBGYxIk47xH4j5+FRJbJUmANOLCwDKlgcMkcm0iohCdzrDAs05brTUiKKVIUfCeY7TaaNTRBWbRSgfv27ZLkgQEIJ6mG4Soo0QWRgIfnIggIUsExshRhJFIQAL3hQlkjjF4a0wIwRiTplnVtINBWRb5crks0mRvsRiXW3VdO+eUTUGbfsKoMioE8TEGF7lbakUM7F0HHMo8Da7jGJyTxNo0SZkRIfaIsMrDIpHUoa6FlXgjEoAYhRT2rVdPY6mACCtNT3UkcAAErXUPRPosUxBQEfTEkdPpbYgctcQozKeQi5n6/1gQ+7SEmYUDAIAiFJYYvFY6hOCZrdHOuRhcmpi2qb1j17XT6XRc5ooUmTSChhhRPIqHGDEECq5azlzXWmPyLCmzRGKQ6I1Sk1FORE3nFCGgQhZBDqiCkUqxFVHMGUhIoNEKwDwFVGdTgfq7RCASIgaIZ1Dr6SCqPqxqrRURvg9fI6AWOW01PsVe1Idmpr5cASIxMCIRKqIozNGRIZAQoyBAYrXvaqPRGorBjUcj4BB9YBe8l1Y6CE6Ch+AMglVkCZPxKIa8qWvXtooAOLiuWS3m6cRKBIlBKwIWACamnWVaeqkVJ5G1RGSpjUSNJhCIwPvSsP6OqEfXhCxnhxC/b/WRtZ/w1xvFmSBAAwc8fUvfYXgK2AjAd50mQqVAmIMAs0IBANc2Zwloj1/6DYqAMaSJLZOyms/6B5QaY9MktFW7cuxd0zgQKUeTcjC01lbLZVUtiShErutV1Im1tm9GlxhBgBkrmyoRK8BW2rqzqFhBQDYKQgiKVF9Gk7PMUikKIWjU/YhNRYoUQWRE7KXQT/sUESJ5Ct6FQQuHs1AqT+eiigCCCDMCUF+sEcYzo+LeizOf1fujiIMYkSNHHzwCgiI1zGwQhwFSo9PhiH3n2jbEUHW+dcEYbfLSBNZpur17YbixVftY1Q2zIGlFSICO+P5mzE6akpKVRi+yzmrg0FNspdVIEqIhQkDvAxGKQAjOaA0sGCOEmORJ13X9butTh9qX3UBCX5o+9bKR/Q/F8P5Z2kLyQ/h6lpxKPMviJMZwtgEUJLbCDD5YIq1U7aJ3PlPQBe9dQGNBkJRNCmuRIlLbNJEAELLRGnA8mlfT6oFKrLE2RBGMijQqlSV2xx9fmLcDTt4qZT9XK9dNwBrSMZDRxhjjvecYEZXrnLWWFHnntVKuDYowNh2CMAmH0LfkaK0QkZn7+cKnTHxmzTGciuFMvZ56ntOCxym87Q//PnWrPZO8F0PkAOwhMHN0ETJjnQ+kzIN3b3feaWVYQGmrTZJkmbYJ2NSkiSJyrtNa1dUqSWxSFMIx+ACEwQdR8iv/6D/8yEvP3v3//I/jr36bgebnYJ4Oi3zytz/9yTIbv3t77+Mf/8jly+fefOvu7dt3n/vQzfv37t965/Y//sf/8N5799966/b6xmhjbWv/yaFJTMOBCL/zne8SaaVUCNE5p8AjMIigiHDUIba9i0DA0/2+00EqctrHI6c9Bcx8xtzvhwIp6IecISgKEUMEiBJA6zb6ZFj+ws99yjWrr37+DzH4GCNYktRQmtB416YZmqRp29H6Bgc1vrBT2Iy9987H4KFa7WyNP/Wx50xhvjWd/5fuOMhhkmzFWbl74drz5y4Uhbr/9ru5kc3J4K3YXL2y9elPvXj16rbxzcc//My1Z86Xa/bcuZ1LOxcO7h+AiB3Yydp6Rv7LX/mqyUrgKCIUg+oFARKD1xIjnJ3F3gNWOK3SyalJ9EbDItKf9HSqTT2MERRAErGgCNgpZODgu/r//t/8X3/2Zz7hu2ZjPP7d3/wtQgSFYJUX6p4cF2Vps1wjmi6o1qvGd05ccBxZOHofPvrRl954483f/sxnDo+a//Xizt99svrUQ/3a7lhunF8U6ZODaZpliPZgfxacP9jff3L/Iceg06R1cb5/WAo+fOv29a3zRyfHg9FAmlhXq6auUMB3LbMwR37fM48iWqI/GyHT0w3OetueVoXO4K2ICPXiYQFBFCTpgxhLKtQhMVAgYWxrHbo/+vIfrq+vJ4Oy3NrSxgqpQIiCm1FpY4IIKkWBfVU301mHyNSTOcRa+/zzzz/77A1tzT/7tX8JT8pPtfRmPL40r57/wz+uju4/fuFDRZk/ePjgzdd/cPjkyQ++//3lwcGHX3jBSfzMZz7jpie3fvCDnd3dkS0+84U//NgnP26Ah6NxvVzOTo7SNNfGWKOBIZ6VcJlZc/QAgECABAxnxXuU942Hkaeb7dyz9/sSGGLP0EJiVACKSHWda9gTymf+zW/cePGFw+nstdde1+UQdKK0QVLCjCGA1hgZtRIiWyT5qBDnGaifH3/p0sWbN28gYFFmNneG4cTMpmM3ULPBk/eufGo0uHipS+Y7mxtFkr712qvf/9Y3c20unzu39eyNt3/w+u/+zu++eO36P/zlv/dgNv27f++XyRoTAxJpwlGRp2mKAEqryBJC5MgxemDW7Lt+CwyBzsr8/d7f6aig9+/oRIk/zHxPjUcQQKKHEIAZIus04cirVfXOrftB73nmfDhpugBCCrW2WpK+vBO7tkMAR9FrLtKBVib6EIIXkX/xL35tOp2++ebrS4DXzm386niNYvdQkr2L6bde/b56FxZQQ/CDvJDgbZa8fettF9q5Us1yUZT5YrX42te/FhIrgzIirpeFd256cDA73C+LIkmsVuRZIveIMRICfvL/9F8QEYJCJISngiCGHqXI+0tA3M9cOXWWp/qCiMAgMca2cU01LvP7d27fuHYFskkTJRnkbX9YVojsAgKmw1REYvTOtUTAMZ47v6N0HiO6rgveubZxXQvAWmmijei15ncphgrPtWoxqqOOeVvUEjkEbwi1UhwDMwehxOhUo6sr7z2TjqiAFEpEga6pq9WibSqrVZpYRmy7tmvb0aDMs1Rz8IBEfYfj6XhYZCBGkvetU2yB6mxO1/tMBkAxg4hzXfAeUDGZAFqr3CZ2VdcmSRCd0UQMrmnbmddaK0LjJfgOIbrpAmzsAGMPCkSUUsYmXd1Etw9IgIXTOuo4qLQh7EyLDEorbZTznWdvU8MxmFoIYNHVUUcyOjUZOgreexGjdT4ZDbJkdgLz2RSCy4v04vbG9ORkenywAv7/Ay5fdvM+idqOAAAAAElFTkSuQmCC\n",
                  "text/plain": "<PIL.Image.Image image mode=RGB size=88x128>"
                },
                "metadata": {},
                "output_type": "display_data"
              }
            ]
          }
        },
        "28c4b4feda9c4afa88361de20cab6b3d": {
          "model_module": "@jupyter-widgets/base",
          "model_module_version": "1.2.0",
          "model_name": "LayoutModel",
          "state": {
            "_model_module": "@jupyter-widgets/base",
            "_model_module_version": "1.2.0",
            "_model_name": "LayoutModel",
            "_view_count": null,
            "_view_module": "@jupyter-widgets/base",
            "_view_module_version": "1.2.0",
            "_view_name": "LayoutView",
            "align_content": null,
            "align_items": null,
            "align_self": null,
            "border": null,
            "bottom": null,
            "display": null,
            "flex": null,
            "flex_flow": null,
            "grid_area": null,
            "grid_auto_columns": null,
            "grid_auto_flow": null,
            "grid_auto_rows": null,
            "grid_column": null,
            "grid_gap": null,
            "grid_row": null,
            "grid_template_areas": null,
            "grid_template_columns": null,
            "grid_template_rows": null,
            "height": null,
            "justify_content": null,
            "justify_items": null,
            "left": null,
            "margin": null,
            "max_height": null,
            "max_width": null,
            "min_height": null,
            "min_width": null,
            "object_fit": null,
            "object_position": null,
            "order": null,
            "overflow": null,
            "overflow_x": null,
            "overflow_y": null,
            "padding": null,
            "right": null,
            "top": null,
            "visibility": null,
            "width": null
          }
        },
        "39b083caed584bbbaac6b8c99edb9912": {
          "model_module": "@jupyter-widgets/base",
          "model_module_version": "1.2.0",
          "model_name": "LayoutModel",
          "state": {
            "_model_module": "@jupyter-widgets/base",
            "_model_module_version": "1.2.0",
            "_model_name": "LayoutModel",
            "_view_count": null,
            "_view_module": "@jupyter-widgets/base",
            "_view_module_version": "1.2.0",
            "_view_name": "LayoutView",
            "align_content": null,
            "align_items": null,
            "align_self": null,
            "border": null,
            "bottom": null,
            "display": null,
            "flex": null,
            "flex_flow": null,
            "grid_area": null,
            "grid_auto_columns": null,
            "grid_auto_flow": null,
            "grid_auto_rows": null,
            "grid_column": null,
            "grid_gap": null,
            "grid_row": null,
            "grid_template_areas": null,
            "grid_template_columns": null,
            "grid_template_rows": null,
            "height": null,
            "justify_content": null,
            "justify_items": null,
            "left": null,
            "margin": null,
            "max_height": null,
            "max_width": null,
            "min_height": null,
            "min_width": null,
            "object_fit": null,
            "object_position": null,
            "order": null,
            "overflow": null,
            "overflow_x": null,
            "overflow_y": null,
            "padding": null,
            "right": null,
            "top": null,
            "visibility": null,
            "width": null
          }
        },
        "480cec0055fc4e80829e36f9ad69fdd0": {
          "model_module": "@jupyter-widgets/base",
          "model_module_version": "1.2.0",
          "model_name": "LayoutModel",
          "state": {
            "_model_module": "@jupyter-widgets/base",
            "_model_module_version": "1.2.0",
            "_model_name": "LayoutModel",
            "_view_count": null,
            "_view_module": "@jupyter-widgets/base",
            "_view_module_version": "1.2.0",
            "_view_name": "LayoutView",
            "align_content": null,
            "align_items": null,
            "align_self": null,
            "border": null,
            "bottom": null,
            "display": null,
            "flex": null,
            "flex_flow": null,
            "grid_area": null,
            "grid_auto_columns": null,
            "grid_auto_flow": null,
            "grid_auto_rows": null,
            "grid_column": null,
            "grid_gap": null,
            "grid_row": null,
            "grid_template_areas": null,
            "grid_template_columns": null,
            "grid_template_rows": null,
            "height": null,
            "justify_content": null,
            "justify_items": null,
            "left": null,
            "margin": null,
            "max_height": null,
            "max_width": null,
            "min_height": null,
            "min_width": null,
            "object_fit": null,
            "object_position": null,
            "order": null,
            "overflow": null,
            "overflow_x": null,
            "overflow_y": null,
            "padding": null,
            "right": null,
            "top": null,
            "visibility": null,
            "width": null
          }
        },
        "4b4c90cd622e462780d5d1ea22a189a7": {
          "model_module": "@jupyter-widgets/base",
          "model_module_version": "1.2.0",
          "model_name": "LayoutModel",
          "state": {
            "_model_module": "@jupyter-widgets/base",
            "_model_module_version": "1.2.0",
            "_model_name": "LayoutModel",
            "_view_count": null,
            "_view_module": "@jupyter-widgets/base",
            "_view_module_version": "1.2.0",
            "_view_name": "LayoutView",
            "align_content": null,
            "align_items": null,
            "align_self": null,
            "border": null,
            "bottom": null,
            "display": null,
            "flex": null,
            "flex_flow": null,
            "grid_area": null,
            "grid_auto_columns": null,
            "grid_auto_flow": null,
            "grid_auto_rows": null,
            "grid_column": null,
            "grid_gap": null,
            "grid_row": null,
            "grid_template_areas": null,
            "grid_template_columns": null,
            "grid_template_rows": null,
            "height": null,
            "justify_content": null,
            "justify_items": null,
            "left": null,
            "margin": null,
            "max_height": null,
            "max_width": null,
            "min_height": null,
            "min_width": null,
            "object_fit": null,
            "object_position": null,
            "order": null,
            "overflow": null,
            "overflow_x": null,
            "overflow_y": null,
            "padding": null,
            "right": null,
            "top": null,
            "visibility": null,
            "width": null
          }
        },
        "538228c77ed244a3b196a58c7f46aa1e": {
          "model_module": "@jupyter-widgets/controls",
          "model_module_version": "1.5.0",
          "model_name": "DescriptionStyleModel",
          "state": {
            "_model_module": "@jupyter-widgets/controls",
            "_model_module_version": "1.5.0",
            "_model_name": "DescriptionStyleModel",
            "_view_count": null,
            "_view_module": "@jupyter-widgets/base",
            "_view_module_version": "1.2.0",
            "_view_name": "StyleView",
            "description_width": ""
          }
        },
        "573c6a69a10242419cd2cc74f8b5dbc0": {
          "model_module": "@jupyter-widgets/controls",
          "model_module_version": "1.5.0",
          "model_name": "DescriptionStyleModel",
          "state": {
            "_model_module": "@jupyter-widgets/controls",
            "_model_module_version": "1.5.0",
            "_model_name": "DescriptionStyleModel",
            "_view_count": null,
            "_view_module": "@jupyter-widgets/base",
            "_view_module_version": "1.2.0",
            "_view_name": "StyleView",
            "description_width": ""
          }
        },
        "596076bf7469439b91afd4cc3c6819f1": {
          "model_module": "@jupyter-widgets/controls",
          "model_module_version": "1.5.0",
          "model_name": "LabelModel",
          "state": {
            "_dom_classes": [],
            "_model_module": "@jupyter-widgets/controls",
            "_model_module_version": "1.5.0",
            "_model_name": "LabelModel",
            "_view_count": null,
            "_view_module": "@jupyter-widgets/controls",
            "_view_module_version": "1.5.0",
            "_view_name": "LabelView",
            "description": "",
            "description_tooltip": null,
            "layout": "IPY_MODEL_f8f459b9046e4749940fc58af2cbdc4f",
            "placeholder": "​",
            "style": "IPY_MODEL_573c6a69a10242419cd2cc74f8b5dbc0",
            "value": "Prediction: wulei; Probability: 0.8797"
          }
        },
        "627b09b6e5874f04bb8e931522d2f366": {
          "model_module": "@jupyter-widgets/controls",
          "model_module_version": "1.5.0",
          "model_name": "FileUploadModel",
          "state": {
            "_counter": 1,
            "_dom_classes": [],
            "_model_module": "@jupyter-widgets/controls",
            "_model_module_version": "1.5.0",
            "_model_name": "FileUploadModel",
            "_view_count": null,
            "_view_module": "@jupyter-widgets/controls",
            "_view_module_version": "1.5.0",
            "_view_name": "FileUploadView",
            "accept": "",
            "button_style": "",
            "data": [
              null
            ],
            "description": "Upload",
            "description_tooltip": null,
            "disabled": false,
            "error": "",
            "icon": "upload",
            "layout": "IPY_MODEL_480cec0055fc4e80829e36f9ad69fdd0",
            "metadata": [
              {
                "lastModified": 1684250750939,
                "name": "images.jpeg",
                "size": 7458,
                "type": "image/jpeg"
              }
            ],
            "multiple": false,
            "style": "IPY_MODEL_74ca0c9e29fe4c5580dd5d94dbbf40b9"
          }
        },
        "74ca0c9e29fe4c5580dd5d94dbbf40b9": {
          "model_module": "@jupyter-widgets/controls",
          "model_module_version": "1.5.0",
          "model_name": "ButtonStyleModel",
          "state": {
            "_model_module": "@jupyter-widgets/controls",
            "_model_module_version": "1.5.0",
            "_model_name": "ButtonStyleModel",
            "_view_count": null,
            "_view_module": "@jupyter-widgets/base",
            "_view_module_version": "1.2.0",
            "_view_name": "StyleView",
            "button_color": null,
            "font_weight": ""
          }
        },
        "8946fcafd02141b39fb6056bc87b03c6": {
          "model_module": "@jupyter-widgets/controls",
          "model_module_version": "1.5.0",
          "model_name": "LabelModel",
          "state": {
            "_dom_classes": [],
            "_model_module": "@jupyter-widgets/controls",
            "_model_module_version": "1.5.0",
            "_model_name": "LabelModel",
            "_view_count": null,
            "_view_module": "@jupyter-widgets/controls",
            "_view_module_version": "1.5.0",
            "_view_name": "LabelView",
            "description": "",
            "description_tooltip": null,
            "layout": "IPY_MODEL_28c4b4feda9c4afa88361de20cab6b3d",
            "placeholder": "​",
            "style": "IPY_MODEL_538228c77ed244a3b196a58c7f46aa1e",
            "value": "Select your bear!"
          }
        },
        "9c38a5a8056c4ee49ff4eeb039409742": {
          "model_module": "@jupyter-widgets/controls",
          "model_module_version": "1.5.0",
          "model_name": "FileUploadModel",
          "state": {
            "_counter": 1,
            "_dom_classes": [],
            "_model_module": "@jupyter-widgets/controls",
            "_model_module_version": "1.5.0",
            "_model_name": "FileUploadModel",
            "_view_count": null,
            "_view_module": "@jupyter-widgets/controls",
            "_view_module_version": "1.5.0",
            "_view_name": "FileUploadView",
            "accept": "",
            "button_style": "",
            "data": [
              null
            ],
            "description": "Upload",
            "description_tooltip": null,
            "disabled": false,
            "error": "",
            "icon": "upload",
            "layout": "IPY_MODEL_39b083caed584bbbaac6b8c99edb9912",
            "metadata": [
              {
                "lastModified": 1684250750939,
                "name": "images.jpeg",
                "size": 7458,
                "type": "image/jpeg"
              }
            ],
            "multiple": false,
            "style": "IPY_MODEL_e45fe65ae93e4bc19e084f55678ae70c"
          }
        },
        "9f3de735f0f64c03a6bb59e6abb4deaf": {
          "model_module": "@jupyter-widgets/base",
          "model_module_version": "1.2.0",
          "model_name": "LayoutModel",
          "state": {
            "_model_module": "@jupyter-widgets/base",
            "_model_module_version": "1.2.0",
            "_model_name": "LayoutModel",
            "_view_count": null,
            "_view_module": "@jupyter-widgets/base",
            "_view_module_version": "1.2.0",
            "_view_name": "LayoutView",
            "align_content": null,
            "align_items": null,
            "align_self": null,
            "border": null,
            "bottom": null,
            "display": null,
            "flex": null,
            "flex_flow": null,
            "grid_area": null,
            "grid_auto_columns": null,
            "grid_auto_flow": null,
            "grid_auto_rows": null,
            "grid_column": null,
            "grid_gap": null,
            "grid_row": null,
            "grid_template_areas": null,
            "grid_template_columns": null,
            "grid_template_rows": null,
            "height": null,
            "justify_content": null,
            "justify_items": null,
            "left": null,
            "margin": null,
            "max_height": null,
            "max_width": null,
            "min_height": null,
            "min_width": null,
            "object_fit": null,
            "object_position": null,
            "order": null,
            "overflow": null,
            "overflow_x": null,
            "overflow_y": null,
            "padding": null,
            "right": null,
            "top": null,
            "visibility": null,
            "width": null
          }
        },
        "ac5b00ebf0194974a9334e4ba546744f": {
          "model_module": "@jupyter-widgets/controls",
          "model_module_version": "1.5.0",
          "model_name": "ButtonModel",
          "state": {
            "_dom_classes": [],
            "_model_module": "@jupyter-widgets/controls",
            "_model_module_version": "1.5.0",
            "_model_name": "ButtonModel",
            "_view_count": null,
            "_view_module": "@jupyter-widgets/controls",
            "_view_module_version": "1.5.0",
            "_view_name": "ButtonView",
            "button_style": "",
            "description": "Classify",
            "disabled": false,
            "icon": "",
            "layout": "IPY_MODEL_c5e963e954e14e88896cffe61184563d",
            "style": "IPY_MODEL_dd4eb611724d483fbd175963d39cc41a",
            "tooltip": ""
          }
        },
        "c5e963e954e14e88896cffe61184563d": {
          "model_module": "@jupyter-widgets/base",
          "model_module_version": "1.2.0",
          "model_name": "LayoutModel",
          "state": {
            "_model_module": "@jupyter-widgets/base",
            "_model_module_version": "1.2.0",
            "_model_name": "LayoutModel",
            "_view_count": null,
            "_view_module": "@jupyter-widgets/base",
            "_view_module_version": "1.2.0",
            "_view_name": "LayoutView",
            "align_content": null,
            "align_items": null,
            "align_self": null,
            "border": null,
            "bottom": null,
            "display": null,
            "flex": null,
            "flex_flow": null,
            "grid_area": null,
            "grid_auto_columns": null,
            "grid_auto_flow": null,
            "grid_auto_rows": null,
            "grid_column": null,
            "grid_gap": null,
            "grid_row": null,
            "grid_template_areas": null,
            "grid_template_columns": null,
            "grid_template_rows": null,
            "height": null,
            "justify_content": null,
            "justify_items": null,
            "left": null,
            "margin": null,
            "max_height": null,
            "max_width": null,
            "min_height": null,
            "min_width": null,
            "object_fit": null,
            "object_position": null,
            "order": null,
            "overflow": null,
            "overflow_x": null,
            "overflow_y": null,
            "padding": null,
            "right": null,
            "top": null,
            "visibility": null,
            "width": null
          }
        },
        "dd4eb611724d483fbd175963d39cc41a": {
          "model_module": "@jupyter-widgets/controls",
          "model_module_version": "1.5.0",
          "model_name": "ButtonStyleModel",
          "state": {
            "_model_module": "@jupyter-widgets/controls",
            "_model_module_version": "1.5.0",
            "_model_name": "ButtonStyleModel",
            "_view_count": null,
            "_view_module": "@jupyter-widgets/base",
            "_view_module_version": "1.2.0",
            "_view_name": "StyleView",
            "button_color": null,
            "font_weight": ""
          }
        },
        "e1dbe433235448849f016c92dc4901cf": {
          "model_module": "@jupyter-widgets/controls",
          "model_module_version": "1.5.0",
          "model_name": "VBoxModel",
          "state": {
            "_dom_classes": [],
            "_model_module": "@jupyter-widgets/controls",
            "_model_module_version": "1.5.0",
            "_model_name": "VBoxModel",
            "_view_count": null,
            "_view_module": "@jupyter-widgets/controls",
            "_view_module_version": "1.5.0",
            "_view_name": "VBoxView",
            "box_style": "",
            "children": [
              "IPY_MODEL_8946fcafd02141b39fb6056bc87b03c6",
              "IPY_MODEL_9c38a5a8056c4ee49ff4eeb039409742",
              "IPY_MODEL_ac5b00ebf0194974a9334e4ba546744f",
              "IPY_MODEL_17504ddaa3cb4869bf9b68b83ae08407",
              "IPY_MODEL_596076bf7469439b91afd4cc3c6819f1"
            ],
            "layout": "IPY_MODEL_4b4c90cd622e462780d5d1ea22a189a7"
          }
        },
        "e45fe65ae93e4bc19e084f55678ae70c": {
          "model_module": "@jupyter-widgets/controls",
          "model_module_version": "1.5.0",
          "model_name": "ButtonStyleModel",
          "state": {
            "_model_module": "@jupyter-widgets/controls",
            "_model_module_version": "1.5.0",
            "_model_name": "ButtonStyleModel",
            "_view_count": null,
            "_view_module": "@jupyter-widgets/base",
            "_view_module_version": "1.2.0",
            "_view_name": "StyleView",
            "button_color": null,
            "font_weight": ""
          }
        },
        "f8f459b9046e4749940fc58af2cbdc4f": {
          "model_module": "@jupyter-widgets/base",
          "model_module_version": "1.2.0",
          "model_name": "LayoutModel",
          "state": {
            "_model_module": "@jupyter-widgets/base",
            "_model_module_version": "1.2.0",
            "_model_name": "LayoutModel",
            "_view_count": null,
            "_view_module": "@jupyter-widgets/base",
            "_view_module_version": "1.2.0",
            "_view_name": "LayoutView",
            "align_content": null,
            "align_items": null,
            "align_self": null,
            "border": null,
            "bottom": null,
            "display": null,
            "flex": null,
            "flex_flow": null,
            "grid_area": null,
            "grid_auto_columns": null,
            "grid_auto_flow": null,
            "grid_auto_rows": null,
            "grid_column": null,
            "grid_gap": null,
            "grid_row": null,
            "grid_template_areas": null,
            "grid_template_columns": null,
            "grid_template_rows": null,
            "height": null,
            "justify_content": null,
            "justify_items": null,
            "left": null,
            "margin": null,
            "max_height": null,
            "max_width": null,
            "min_height": null,
            "min_width": null,
            "object_fit": null,
            "object_position": null,
            "order": null,
            "overflow": null,
            "overflow_x": null,
            "overflow_y": null,
            "padding": null,
            "right": null,
            "top": null,
            "visibility": null,
            "width": null
          }
        }
      }
    }
  },
  "nbformat": 4,
  "nbformat_minor": 0
}
